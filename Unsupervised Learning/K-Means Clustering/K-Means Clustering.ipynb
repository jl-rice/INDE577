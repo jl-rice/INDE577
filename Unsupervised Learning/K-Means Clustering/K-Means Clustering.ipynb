{
 "cells": [
  {
   "cell_type": "markdown",
   "id": "8ead96eb",
   "metadata": {},
   "source": [
    "# K-Means Clustering\n",
    "\n",
    "### PCA\n",
    "\n",
    "Principal component analysis (PCA) is used in exploratory data analysis and for making predictive models. It is commonly used for dimensionality reduction by projecting each data point onto only the first few principal components to obtain lower-dimensional data while preserving as much of the data's variation as possible. The first principal component can equivalently be defined as a direction that maximizes the variance of the projected data. The ${\\displaystyle i}$th principal component can be taken as a direction orthogonal to the first ${\\displaystyle i-1}$ principal components that maximizes the variance of the projected data.\n",
    "\n",
    "For this project, we will first use PCA to reduce a four dimensional dataset to a two dimensional dataset. Then the two remaining features will be used to implement the k-means clustering algorithm.\n",
    "\n",
    "### K-Means Clustering\n",
    "K-means clustering is one of the simplest and popular unsupervised machine learning algorithms. Typically, unsupervised algorithms make inferences from datasets using only input vectors without referring to known, or labelled, outcomes. To process the learning data, the K-means algorithm in data mining starts with a first group of randomly selected centroids, which are used as the beginning points for every cluster, and then performs iterative (repetitive) calculations to optimize the positions of the centroids. It halts creating and optimizing clusters when either the centroids have stabilized (there is no change in their values because the clustering has been successful) or the defined number of iterations has been achieved.\n",
    "\n",
    "<img src=\"https://miro.medium.com/max/1400/0*irrlUXS1tmYanvT0.png\" width=\"700\" height=\"400\"/>\n",
    "\n",
    "### The complete k-means clustering algorithm:\n",
    "1. Randomly choose $k$ distinct feature vectors as the starting centroids, $c_1$, $c_2$, ..., $c_k$.\n",
    "2. Assign each feature vector to the closest centroid. Clusters are formed accordingly.\n",
    "\n",
    "$$A_i = \\{x: x_i\\ is\\ assigned\\ c_i\\}$$\n",
    "\n",
    "3. Update centroids using $c_i \\rightarrow \\frac{1}{|A_i|}\\sum_{x \\in A_i}^{} x$.\n",
    "4. Repeat step 2 and step 3 until the centroids no longer move.\n",
    "5. Return $A_1$, $A_2$, ..., $A_k$."
   ]
  },
  {
   "cell_type": "markdown",
   "id": "0c5fc2c9",
   "metadata": {},
   "source": [
    "---\n",
    "# My Implementation on Fruit Dataset\n",
    "\n",
    "I choose the fruit dataset to implement the algorithm. The dataset contains 4 predictor variables and 3 target variables.\n",
    "\n",
    "### Predictor variables:\n",
    "1. mass\n",
    "2. width\n",
    "3. height\n",
    "4. color_score\n",
    "\n",
    "These four variables will be reduced to two using PCA.\n",
    "\n",
    "### Target variables:\n",
    "1. fruit_label (label: 1, 2, 3, 4)\n",
    "2. fruit_name (label: apple, mandarin, orange, lemon)\n",
    "3. fruit_subtype\n",
    "\n",
    "\"fruit_label\" and \"fruit_name\" are the same thing, with each number corresponding to a fruit type. \"fruit_subtype\" is simply the subtype of \"fruit_name\". However, for k-means clustering, we are interested in predicting the fruit type without knowing the original label."
   ]
  },
  {
   "cell_type": "markdown",
   "id": "a3b0d6d9",
   "metadata": {},
   "source": [
    "---\n",
    "# Libraries Used\n",
    "\n",
    "The following packages are used to implement this algorithm.\n",
    "\n",
    "1. [numpy](https://numpy.org/doc/)\n",
    "2. [pandas](https://pandas.pydata.org/docs/)\n",
    "3. [matplotlib](https://matplotlib.org/)\n",
    "4. [sklearn.decomposition](https://scikit-learn.org/stable/modules/generated/sklearn.decomposition.PCA.html)"
   ]
  },
  {
   "cell_type": "markdown",
   "id": "034a9732",
   "metadata": {},
   "source": [
    "---\n",
    "# Coding Part"
   ]
  },
  {
   "cell_type": "markdown",
   "id": "4439bde1",
   "metadata": {},
   "source": [
    "Import all necessary libraries."
   ]
  },
  {
   "cell_type": "code",
   "execution_count": 1,
   "id": "f9a799ff",
   "metadata": {},
   "outputs": [],
   "source": [
    "import matplotlib.pyplot as plt\n",
    "import numpy as np\n",
    "import pandas as pd\n",
    "from sklearn.decomposition import PCA"
   ]
  },
  {
   "cell_type": "markdown",
   "id": "5c973b16",
   "metadata": {},
   "source": [
    "Read the fruit dataset."
   ]
  },
  {
   "cell_type": "code",
   "execution_count": 2,
   "id": "c85ad620",
   "metadata": {},
   "outputs": [],
   "source": [
    "df = pd.read_table('fruit.txt')"
   ]
  },
  {
   "cell_type": "markdown",
   "id": "6eedf366",
   "metadata": {},
   "source": [
    "Take a look at the first few rows of the dataset."
   ]
  },
  {
   "cell_type": "code",
   "execution_count": 3,
   "id": "a79e6401",
   "metadata": {},
   "outputs": [
    {
     "data": {
      "text/html": [
       "<div>\n",
       "<style scoped>\n",
       "    .dataframe tbody tr th:only-of-type {\n",
       "        vertical-align: middle;\n",
       "    }\n",
       "\n",
       "    .dataframe tbody tr th {\n",
       "        vertical-align: top;\n",
       "    }\n",
       "\n",
       "    .dataframe thead th {\n",
       "        text-align: right;\n",
       "    }\n",
       "</style>\n",
       "<table border=\"1\" class=\"dataframe\">\n",
       "  <thead>\n",
       "    <tr style=\"text-align: right;\">\n",
       "      <th></th>\n",
       "      <th>fruit_label</th>\n",
       "      <th>fruit_name</th>\n",
       "      <th>fruit_subtype</th>\n",
       "      <th>mass</th>\n",
       "      <th>width</th>\n",
       "      <th>height</th>\n",
       "      <th>color_score</th>\n",
       "    </tr>\n",
       "  </thead>\n",
       "  <tbody>\n",
       "    <tr>\n",
       "      <th>0</th>\n",
       "      <td>1</td>\n",
       "      <td>apple</td>\n",
       "      <td>granny_smith</td>\n",
       "      <td>192</td>\n",
       "      <td>8.4</td>\n",
       "      <td>7.3</td>\n",
       "      <td>0.55</td>\n",
       "    </tr>\n",
       "    <tr>\n",
       "      <th>1</th>\n",
       "      <td>1</td>\n",
       "      <td>apple</td>\n",
       "      <td>granny_smith</td>\n",
       "      <td>180</td>\n",
       "      <td>8.0</td>\n",
       "      <td>6.8</td>\n",
       "      <td>0.59</td>\n",
       "    </tr>\n",
       "    <tr>\n",
       "      <th>2</th>\n",
       "      <td>1</td>\n",
       "      <td>apple</td>\n",
       "      <td>granny_smith</td>\n",
       "      <td>176</td>\n",
       "      <td>7.4</td>\n",
       "      <td>7.2</td>\n",
       "      <td>0.60</td>\n",
       "    </tr>\n",
       "    <tr>\n",
       "      <th>3</th>\n",
       "      <td>2</td>\n",
       "      <td>mandarin</td>\n",
       "      <td>mandarin</td>\n",
       "      <td>86</td>\n",
       "      <td>6.2</td>\n",
       "      <td>4.7</td>\n",
       "      <td>0.80</td>\n",
       "    </tr>\n",
       "    <tr>\n",
       "      <th>4</th>\n",
       "      <td>2</td>\n",
       "      <td>mandarin</td>\n",
       "      <td>mandarin</td>\n",
       "      <td>84</td>\n",
       "      <td>6.0</td>\n",
       "      <td>4.6</td>\n",
       "      <td>0.79</td>\n",
       "    </tr>\n",
       "  </tbody>\n",
       "</table>\n",
       "</div>"
      ],
      "text/plain": [
       "   fruit_label fruit_name fruit_subtype  mass  width  height  color_score\n",
       "0            1      apple  granny_smith   192    8.4     7.3         0.55\n",
       "1            1      apple  granny_smith   180    8.0     6.8         0.59\n",
       "2            1      apple  granny_smith   176    7.4     7.2         0.60\n",
       "3            2   mandarin      mandarin    86    6.2     4.7         0.80\n",
       "4            2   mandarin      mandarin    84    6.0     4.6         0.79"
      ]
     },
     "execution_count": 3,
     "metadata": {},
     "output_type": "execute_result"
    }
   ],
   "source": [
    "df.head()"
   ]
  },
  {
   "cell_type": "markdown",
   "id": "2879ceaf",
   "metadata": {},
   "source": [
    "Set X to be all predictor variables (\"mass\", \"width\", \"height\" and \"color_score\"). X will further be reduced to two dimensions using PCA. Then take a look at the first several elements in X."
   ]
  },
  {
   "cell_type": "code",
   "execution_count": 4,
   "id": "c3ae9300",
   "metadata": {},
   "outputs": [
    {
     "data": {
      "text/plain": [
       "array([[192.  ,   8.4 ,   7.3 ,   0.55],\n",
       "       [180.  ,   8.  ,   6.8 ,   0.59],\n",
       "       [176.  ,   7.4 ,   7.2 ,   0.6 ],\n",
       "       [ 86.  ,   6.2 ,   4.7 ,   0.8 ],\n",
       "       [ 84.  ,   6.  ,   4.6 ,   0.79],\n",
       "       [ 80.  ,   5.8 ,   4.3 ,   0.77],\n",
       "       [ 80.  ,   5.9 ,   4.3 ,   0.81],\n",
       "       [ 76.  ,   5.8 ,   4.  ,   0.81],\n",
       "       [178.  ,   7.1 ,   7.8 ,   0.92],\n",
       "       [172.  ,   7.4 ,   7.  ,   0.89]])"
      ]
     },
     "execution_count": 4,
     "metadata": {},
     "output_type": "execute_result"
    }
   ],
   "source": [
    "X = df.iloc[:, 3:7].to_numpy()\n",
    "X[0:10]"
   ]
  },
  {
   "cell_type": "markdown",
   "id": "91296efe",
   "metadata": {},
   "source": [
    "---\n",
    "### PCA\n",
    "\n",
    "Now apply PCA on X and reduce the dimensions to 2. The two features remaining will be used to implement k-means clustering."
   ]
  },
  {
   "cell_type": "code",
   "execution_count": 5,
   "id": "7f1beee1",
   "metadata": {},
   "outputs": [],
   "source": [
    "X = PCA(n_components = 2).fit_transform(X)\n",
    "y = df.fruit_label"
   ]
  },
  {
   "cell_type": "markdown",
   "id": "63a4e9ce",
   "metadata": {},
   "source": [
    "Plot the data points with the target variable being \"fruit_label\". We see that there are four fruit names in total."
   ]
  },
  {
   "cell_type": "code",
   "execution_count": 6,
   "id": "1f7efc83",
   "metadata": {},
   "outputs": [
    {
     "data": {
      "text/plain": [
       "Text(0.5, 1.0, 'Feature 1 against Feature 2 After PCA')"
      ]
     },
     "execution_count": 6,
     "metadata": {},
     "output_type": "execute_result"
    },
    {
     "data": {
      "image/png": "[encoded data removed]",
      "text/plain": [
       "<Figure size 432x288 with 1 Axes>"
      ]
     },
     "metadata": {
      "needs_background": "light"
     },
     "output_type": "display_data"
    }
   ],
   "source": [
    "plt.scatter(X[:, 0],\n",
    "            X[:, 1],\n",
    "            c = y,\n",
    "            cmap = plt.cm.Set2,\n",
    "            s = 40)\n",
    "plt.xlabel(\"Feature 1\")\n",
    "plt.ylabel(\"Feature 2\")\n",
    "plt.title(\"Feature 1 against Feature 2 After PCA\")"
   ]
  },
  {
   "cell_type": "markdown",
   "id": "29470614",
   "metadata": {},
   "source": [
    "Then, let's mix all the data points by removing the target variable."
   ]
  },
  {
   "cell_type": "code",
   "execution_count": 7,
   "id": "e703c1e4",
   "metadata": {},
   "outputs": [
    {
     "data": {
      "text/plain": [
       "Text(0.5, 1.0, 'Feature 1 against Feature 2 After PCA')"
      ]
     },
     "execution_count": 7,
     "metadata": {},
     "output_type": "execute_result"
    },
    {
     "data": {
      "image/png": "[encoded data removed]",
      "text/plain": [
       "<Figure size 432x288 with 1 Axes>"
      ]
     },
     "metadata": {
      "needs_background": "light"
     },
     "output_type": "display_data"
    }
   ],
   "source": [
    "plt.scatter(X[:,0], X[:,1])\n",
    "plt.title(\"Feature 1 against Feature 2 After PCA\")"
   ]
  },
  {
   "cell_type": "markdown",
   "id": "23cfa17b",
   "metadata": {},
   "source": [
    "### Euclidean distance\n",
    "\n",
    "Now define a function for euclidean distance."
   ]
  },
  {
   "cell_type": "code",
   "execution_count": 8,
   "id": "f8f8b9dd",
   "metadata": {},
   "outputs": [],
   "source": [
    "def distance(v, w):\n",
    "    return np.sqrt((v - w) @ (v - w))"
   ]
  },
  {
   "cell_type": "markdown",
   "id": "f05038b2",
   "metadata": {},
   "source": [
    "### Intialize and form clusters\n",
    "\n",
    "Define a function to initialized 2 centroids. These two centroids are selected randomly. Then define another function to calculate distance between each data point and centroids and assign each feature vector to the closest centroid."
   ]
  },
  {
   "cell_type": "code",
   "execution_count": 9,
   "id": "8f9401b6",
   "metadata": {},
   "outputs": [],
   "source": [
    "def initialize_centroids(data, k = 2):\n",
    "    Centroids = []\n",
    "    for _ in range(k):\n",
    "        i = np.random.randint(len(X))\n",
    "        Centroids.append(X[i, :])\n",
    "    return Centroids\n",
    "    \n",
    "def assignment(x, Centroids):\n",
    "    distances = np.array([distance(x, centroid) for centroid in Centroids])\n",
    "    return np.argmin(distances)"
   ]
  },
  {
   "cell_type": "markdown",
   "id": "ebcbda6d",
   "metadata": {},
   "source": [
    "### Update centroids\n",
    "\n",
    "Define a function of make-class. Then define another function \"new_centroids\" to update centroids by generating the mean center for each cluster. Finally define a fit function to decide when to stop the update process."
   ]
  },
  {
   "cell_type": "code",
   "execution_count": 10,
   "id": "8f41c6bb",
   "metadata": {},
   "outputs": [],
   "source": [
    "def make_classes(data, Centroids):\n",
    "    A = dict()\n",
    "    for i in range(len(Centroids)):\n",
    "        A[i] = []\n",
    "    for x in data:\n",
    "        A[assignment(x, Centroids)].append(x)\n",
    "    return A\n",
    "\n",
    "def new_centroids(data, Centroids):\n",
    "    new_Centroids = []\n",
    "    A = make_classes(data, Centroids)\n",
    "    for i in range(len(Centroids)):\n",
    "        new_Centroids.append((1/len(A[i]))*sum(A[i]))\n",
    "    \n",
    "    return new_Centroids\n",
    "\n",
    "def fit(data, k = 3, max_iterations = 100, epsilon = 0.01):\n",
    "    C_old = initialize_centroids(X, k = k)\n",
    "    C_new = new_centroids(data, C_old)\n",
    "    centroid_distances = [distance(p[0], p[1]) for p in zip(C_old, C_new)]\n",
    "    iterations = 0\n",
    "    while max(centroid_distances) > epsilon and iterations < max_iterations:\n",
    "        C_old, C_new = C_new, new_centroids(data, C_new)\n",
    "        centroid_distances = [distance(p[0], p[1]) for p in zip(C_old, C_new)]\n",
    "        iterations += 1\n",
    "    return C_new"
   ]
  },
  {
   "cell_type": "markdown",
   "id": "7fb3b47a",
   "metadata": {},
   "source": [
    "### Error\n",
    "\n",
    "Define a function for MSE."
   ]
  },
  {
   "cell_type": "code",
   "execution_count": 11,
   "id": "dd45df47",
   "metadata": {},
   "outputs": [],
   "source": [
    "def mse_classes(data, Centroids):\n",
    "    errors = []\n",
    "    A_classes = make_classes(data, Centroids)\n",
    "    for i, centroid in enumerate(Centroids):\n",
    "        error = sum(.5*(centroid - a) @ (centroid - a) for a in A_classes[i])\n",
    "        errors.append(error)\n",
    "    return sum(x for x in errors)"
   ]
  },
  {
   "cell_type": "markdown",
   "id": "6891da6f",
   "metadata": {},
   "source": [
    "Fit the data with k = 1 through k = 6."
   ]
  },
  {
   "cell_type": "code",
   "execution_count": 12,
   "id": "70db546f",
   "metadata": {},
   "outputs": [],
   "source": [
    "C1 = fit(X, k = 1)\n",
    "C2 = fit(X, k = 2)\n",
    "C3 = fit(X, k = 3)\n",
    "C4 = fit(X, k = 4)\n",
    "C5 = fit(X, k = 5)\n",
    "C6 = fit(X, k = 6)\n",
    "C = [C1, C2, C3, C4, C5, C6]"
   ]
  },
  {
   "cell_type": "markdown",
   "id": "b1904993",
   "metadata": {},
   "source": [
    "Compute the MSE for each fitting. The errors decrease significantly from $k = 1$ to $k = 6$."
   ]
  },
  {
   "cell_type": "code",
   "execution_count": 13,
   "id": "183285c9",
   "metadata": {},
   "outputs": [
    {
     "data": {
      "text/plain": [
       "[87854.38699445588,\n",
       " 56732.01810894633,\n",
       " 10344.346797401942,\n",
       " 6814.227870568008,\n",
       " 3641.272493808161,\n",
       " 2763.554781263049]"
      ]
     },
     "execution_count": 13,
     "metadata": {},
     "output_type": "execute_result"
    }
   ],
   "source": [
    "errors = [mse_classes(X, centroids) for centroids in C]\n",
    "errors"
   ]
  },
  {
   "cell_type": "markdown",
   "id": "2729981b",
   "metadata": {},
   "source": [
    "Now plot the error for each $k$ value."
   ]
  },
  {
   "cell_type": "code",
   "execution_count": 14,
   "id": "e97c3195",
   "metadata": {},
   "outputs": [
    {
     "data": {
      "text/plain": [
       "Text(0, 0.5, 'Error')"
      ]
     },
     "execution_count": 14,
     "metadata": {},
     "output_type": "execute_result"
    },
    {
     "data": {
      "image/png": "[encoded data removed]",
      "text/plain": [
       "<Figure size 720x576 with 1 Axes>"
      ]
     },
     "metadata": {
      "needs_background": "light"
     },
     "output_type": "display_data"
    }
   ],
   "source": [
    "plt.figure(figsize = (10, 8))\n",
    "plt.plot([i for i in range(1, 7)], errors)\n",
    "plt.xlabel(\"k\")\n",
    "plt.ylabel(\"Error\")"
   ]
  },
  {
   "cell_type": "markdown",
   "id": "f3823a41",
   "metadata": {},
   "source": [
    "From the plot we see that $k = 3$ is a turing point. The errors decrease sharply from 1 to 3 whereas the the errors decrease gently after three, so we choose $k = 3$."
   ]
  },
  {
   "cell_type": "code",
   "execution_count": 15,
   "id": "390ed540",
   "metadata": {},
   "outputs": [
    {
     "name": "stdout",
     "output_type": "stream",
     "text": [
      "10487.457871209197\n"
     ]
    }
   ],
   "source": [
    "C = fit(X)\n",
    "print(mse_classes(X, C))"
   ]
  },
  {
   "cell_type": "code",
   "execution_count": 16,
   "id": "1f553995",
   "metadata": {},
   "outputs": [
    {
     "data": {
      "text/plain": [
       "[array([11.33254623,  0.31837345]),\n",
       " array([-2.66426256, -0.09084318]),\n",
       " array([-8.66828368, -0.22753027])]"
      ]
     },
     "execution_count": 16,
     "metadata": {},
     "output_type": "execute_result"
    }
   ],
   "source": [
    "A_classes = make_classes(X, C)\n",
    "[(C[0] - a) for a in A_classes[0]]"
   ]
  },
  {
   "cell_type": "code",
   "execution_count": 17,
   "id": "afa00511",
   "metadata": {},
   "outputs": [
    {
     "data": {
      "text/plain": [
       "[(array([-9.12022645,  0.29944503]), array([-11.11756973,   0.06657908])),\n",
       " (array([-3.1158039 ,  0.21031486]), array([31.46957472, -0.03716707])),\n",
       " (array([-33.11881555,  -1.09523233]),\n",
       "  array([-5.26341237e+01,  2.20768788e-02]))]"
      ]
     },
     "execution_count": 17,
     "metadata": {},
     "output_type": "execute_result"
    }
   ],
   "source": [
    "k = 3\n",
    "C_old = initialize_centroids(X, k = k)\n",
    "C_new = new_centroids(X, C_old)\n",
    "[p for p in zip(C_old, C_new)]"
   ]
  },
  {
   "cell_type": "markdown",
   "id": "16613029",
   "metadata": {},
   "source": [
    "### Result\n",
    "\n",
    "Now, let's see how the classification looks like."
   ]
  },
  {
   "cell_type": "code",
   "execution_count": 18,
   "id": "d5daeed2",
   "metadata": {},
   "outputs": [
    {
     "data": {
      "text/plain": [
       "Text(0.5, 1.0, 'Feature 1 against Feature 2 After K-Means Clustering')"
      ]
     },
     "execution_count": 18,
     "metadata": {},
     "output_type": "execute_result"
    },
    {
     "data": {
      "image/png": "[encoded data removed]",
      "text/plain": [
       "<Figure size 432x288 with 1 Axes>"
      ]
     },
     "metadata": {
      "needs_background": "light"
     },
     "output_type": "display_data"
    }
   ],
   "source": [
    "[p for p in zip(C_old, C_new)]\n",
    "for x in X:\n",
    "    if assignment(x, C3) == 0:\n",
    "        plt.scatter(x[0], x[1], color = \"blue\")\n",
    "    elif assignment(x, C3) == 1:\n",
    "        plt.scatter(x[0], x[1], color = \"green\")\n",
    "    else:\n",
    "        plt.scatter(x[0], x[1], color = \"red\")\n",
    "plt.xlabel(\"Feature 1\")\n",
    "plt.ylabel(\"Feature 2\")\n",
    "plt.title(\"Feature 1 against Feature 2 After K-Means Clustering\")"
   ]
  },
  {
   "cell_type": "markdown",
   "id": "9b7b9e76",
   "metadata": {},
   "source": [
    "Now let's see how the predicted classification compared to the actual classification."
   ]
  },
  {
   "cell_type": "code",
   "execution_count": 19,
   "id": "4afa9252",
   "metadata": {},
   "outputs": [
    {
     "data": {
      "text/plain": [
       "Text(0.5, 1.0, 'Actual Feature 1 against Feature 2')"
      ]
     },
     "execution_count": 19,
     "metadata": {},
     "output_type": "execute_result"
    },
    {
     "data": {
      "image/png": "[encoded data removed]",
      "text/plain": [
       "<Figure size 432x288 with 1 Axes>"
      ]
     },
     "metadata": {
      "needs_background": "light"
     },
     "output_type": "display_data"
    }
   ],
   "source": [
    "plt.scatter(\n",
    "    X[:, 0],\n",
    "    X[:, 1],\n",
    "    c = y,\n",
    "    cmap = plt.cm.Set2,\n",
    "    s = 40)\n",
    "plt.xlabel(\"Feature 1\")\n",
    "plt.ylabel(\"Feature 2\")\n",
    "plt.title(\"Actual Feature 1 against Feature 2\")"
   ]
  },
  {
   "cell_type": "markdown",
   "id": "f65a87af",
   "metadata": {},
   "source": [
    "In conclusion, the error plot suggests that we should use $k = 3$, whereas the original dataste has 4 fruit types. From the plot we can see that the prediction is actually not that accurate."
   ]
  },
  {
   "cell_type": "markdown",
   "id": "870e220d",
   "metadata": {},
   "source": [
    "---\n",
    "# References\n",
    "\n",
    "Garbade, Michael. Understanding k-means clustering in machine learning. Toward Data Science. https://towardsdatascience.com/understanding-k-means-clustering-in-machine-learning-6a6e67336aa1\n",
    "\n",
    "Principal component analysis. Wikipedia. https://en.wikipedia.org/wiki/Principal_component_analysis\n"
   ]
  }
 ],
 "metadata": {
  "kernelspec": {
   "display_name": "Python 3",
   "language": "python",
   "name": "python3"
  },
  "language_info": {
   "codemirror_mode": {
    "name": "ipython",
    "version": 3
   },
   "file_extension": ".py",
   "mimetype": "text/x-python",
   "name": "python",
   "nbconvert_exporter": "python",
   "pygments_lexer": "ipython3",
   "version": "3.8.8"
  }
 },
 "nbformat": 4,
 "nbformat_minor": 5
}
