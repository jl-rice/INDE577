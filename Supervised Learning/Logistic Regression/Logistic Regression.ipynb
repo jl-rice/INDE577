{
 "cells": [
  {
   "cell_type": "markdown",
   "id": "af9d5142",
   "metadata": {},
   "source": [
    "# Logistic Regression\n",
    "\n",
    "Logistic Regression is a supervised machine learning algorithm that is used for the classification problems and predictive analysis. However, unlike the classification algorithm, logistic regression is strictly based on the concept of probability, and it is usually used to classify binary objects.\n",
    "\n",
    "<img src=\"https://miro.medium.com/max/1400/1*dm6ZaX5fuSmuVvM4Ds-vcg.jpeg\" width=\"630\" height=\"630\"/>\n",
    "\n",
    "### Comparison with linear regression:\n",
    "We can call a logstic regression an extreme case of linear regression, but there are some clear differences between two. First, the predicted $y$ of a logistic regression lies within 0 and 1, whereas a linear regression can have a predicted $y$ exceedong this range. Also, the linear regression does not produce a probability, while a logistic regression does. In addition, the logistic regression uses a more complex cost function. This cost function can be defined as the \"sigmoid function\" or also known as the \"logistic function\" instead of a linear function.\n",
    "\n",
    "$$\n",
    "Sigmoid: \\sigma(z) = \\frac{1}{1 + e^{-z}}\n",
    "$$\n",
    "\n",
    "$$\n",
    "Preactivation: z = \\sum w_j x_j + bias\n",
    "$$\n",
    "Below is a graph of the sigmoid function:\n",
    "<img src=\"https://miro.medium.com/max/1280/1*OUOB_YF41M-O4GgZH_F2rw.png\" width=\"500\" height=\"500\"/>\n",
    "\n",
    "### There are some general assumptions of the logistic regression:\n",
    "1. Each example $(x, y)$ belongs to one of two complementary classes.\n",
    "2. Each example is independent of each other.\n",
    "3. We assume all examples are generated under the same distribution.\n",
    "4. The probability of \"given $x$ and predict the correct $y$\", $p(y|x)$, is $\\hat{y}$ if $y = 1$, and $p(y|x)$ is $1 - \\hat{y}$ if $y = 0$. We want to maximize $\\hat{y}$ when $y = 1$ and maximize $1 - \\hat{y}$ when $y = 0$.\n",
    "\n",
    "### Derivations and outcomes:\n",
    "We assume a bernoulli distribution for $p(y|x)$. Then, $p(y|x) = \\hat{y}^y(1 - \\hat{y})^{1-y}$. We want to maximize $p(y|x)$ by maximizing $log(p(y|x))$, which is equivalent to minimizing $-log(p(y|x))$, also known as the cross entropy loss (CEL). The loss function is important to implement the algorithm.\n",
    "\n",
    "$$\n",
    "CEL = L(w, b; y) = -log(p(y|x)) = -ylog\\hat{y} - (1-y)log(1-\\hat{y})\n",
    "$$\n",
    "\n",
    "Then through partial derivatives, we finally obtain:\n",
    "$$\n",
    "\\frac{\\partial L}{\\partial w_j} = [\\sigma(w_j x_j + bias) − y]x_j = [\\hat{y} - y]x_j\n",
    "$$\n",
    "\n",
    "\n",
    "$$\n",
    "\\frac{\\partial L}{\\partial b} = \\sigma(w_j x_j + bias) − y = \\hat{y} - y\n",
    "$$\n",
    "\n",
    "\n",
    "### Steps to train our neural network:\n",
    "1. Randomly select $(x, y)$ from the training set.\n",
    "2. Feed forward into the neural network.\n",
    "3. Use gradient descent to update weights and bias (choose the learning rate $\\alpha$):\n",
    "   - $w_1 = w_1 - \\alpha(\\hat{y} - y)x_1$\n",
    "   - $w_2 = w_2 - \\alpha(\\hat{y} - y)x_2$\n",
    "   - ...\n",
    "   - $b = b - \\alpha(\\hat{y} - y)$\n",
    "4. Repeat step 1 to step 3 until desired loss in-sample is reached, or the maximum number of steps is reached."
   ]
  },
  {
   "cell_type": "markdown",
   "id": "e498b096",
   "metadata": {},
   "source": [
    "---\n",
    "# My Implementation on Social Network Ads Data\n",
    "\n",
    "I choose the social netwrok ads data to implement the logistic regression. There are 4 predictor variables and 1 target variable.\n",
    "\n",
    "### Predictor variables\n",
    "1. User ID\n",
    "2. Gender\n",
    "3. Age\n",
    "4. Estimated Salary\n",
    "\n",
    "### Target variable\n",
    "1. Purchased\n",
    "\n",
    "My goal is to use gender, age and estimated salary to predict whether customers purchased or not after viewing the ads. \"Purhcased\" = 0 stands for \"NOT purchased\", and \"Purchased\" = 1 stands for \"purchased\"."
   ]
  },
  {
   "cell_type": "markdown",
   "id": "082c1ff9",
   "metadata": {},
   "source": [
    "---\n",
    "# Libraries Used\n",
    "\n",
    "The following packages are used to implement this algorithm.\n",
    "\n",
    "1. [numpy](https://numpy.org/doc/)\n",
    "2. [pandas](https://pandas.pydata.org/docs/)\n",
    "3. [matplotlib](https://matplotlib.org/)"
   ]
  },
  {
   "cell_type": "markdown",
   "id": "c1c7b07a",
   "metadata": {},
   "source": [
    "---\n",
    "# Coding Part"
   ]
  },
  {
   "cell_type": "markdown",
   "id": "dd6516ab",
   "metadata": {},
   "source": [
    "Import necessary libraries."
   ]
  },
  {
   "cell_type": "code",
   "execution_count": 26,
   "id": "81b779f6",
   "metadata": {},
   "outputs": [],
   "source": [
    "import pandas as pd\n",
    "import numpy as np\n",
    "import matplotlib.pyplot as plt \n",
    "\n",
    "%matplotlib inline "
   ]
  },
  {
   "cell_type": "code",
   "execution_count": 27,
   "id": "f1f69c90",
   "metadata": {},
   "outputs": [],
   "source": [
    "df = pd.read_csv(\"Social_Network_Ads.csv\")\n",
    "df['Age'] = pd.to_numeric(df['Age'], downcast = 'float')\n",
    "df['EstimatedSalary'] = pd.to_numeric(df['EstimatedSalary'], downcast = 'float')"
   ]
  },
  {
   "cell_type": "code",
   "execution_count": 28,
   "id": "8f208020",
   "metadata": {},
   "outputs": [
    {
     "data": {
      "text/html": [
       "<div>\n",
       "<style scoped>\n",
       "    .dataframe tbody tr th:only-of-type {\n",
       "        vertical-align: middle;\n",
       "    }\n",
       "\n",
       "    .dataframe tbody tr th {\n",
       "        vertical-align: top;\n",
       "    }\n",
       "\n",
       "    .dataframe thead th {\n",
       "        text-align: right;\n",
       "    }\n",
       "</style>\n",
       "<table border=\"1\" class=\"dataframe\">\n",
       "  <thead>\n",
       "    <tr style=\"text-align: right;\">\n",
       "      <th></th>\n",
       "      <th>User ID</th>\n",
       "      <th>Gender</th>\n",
       "      <th>Age</th>\n",
       "      <th>EstimatedSalary</th>\n",
       "      <th>Purchased</th>\n",
       "    </tr>\n",
       "  </thead>\n",
       "  <tbody>\n",
       "    <tr>\n",
       "      <th>0</th>\n",
       "      <td>15624510</td>\n",
       "      <td>Male</td>\n",
       "      <td>19.0</td>\n",
       "      <td>19000.0</td>\n",
       "      <td>0</td>\n",
       "    </tr>\n",
       "    <tr>\n",
       "      <th>1</th>\n",
       "      <td>15810944</td>\n",
       "      <td>Male</td>\n",
       "      <td>35.0</td>\n",
       "      <td>20000.0</td>\n",
       "      <td>0</td>\n",
       "    </tr>\n",
       "    <tr>\n",
       "      <th>2</th>\n",
       "      <td>15668575</td>\n",
       "      <td>Female</td>\n",
       "      <td>26.0</td>\n",
       "      <td>43000.0</td>\n",
       "      <td>0</td>\n",
       "    </tr>\n",
       "    <tr>\n",
       "      <th>3</th>\n",
       "      <td>15603246</td>\n",
       "      <td>Female</td>\n",
       "      <td>27.0</td>\n",
       "      <td>57000.0</td>\n",
       "      <td>0</td>\n",
       "    </tr>\n",
       "    <tr>\n",
       "      <th>4</th>\n",
       "      <td>15804002</td>\n",
       "      <td>Male</td>\n",
       "      <td>19.0</td>\n",
       "      <td>76000.0</td>\n",
       "      <td>0</td>\n",
       "    </tr>\n",
       "  </tbody>\n",
       "</table>\n",
       "</div>"
      ],
      "text/plain": [
       "    User ID  Gender   Age  EstimatedSalary  Purchased\n",
       "0  15624510    Male  19.0          19000.0          0\n",
       "1  15810944    Male  35.0          20000.0          0\n",
       "2  15668575  Female  26.0          43000.0          0\n",
       "3  15603246  Female  27.0          57000.0          0\n",
       "4  15804002    Male  19.0          76000.0          0"
      ]
     },
     "execution_count": 28,
     "metadata": {},
     "output_type": "execute_result"
    }
   ],
   "source": [
    "df.head()"
   ]
  },
  {
   "cell_type": "markdown",
   "id": "5e3b3742",
   "metadata": {},
   "source": [
    "Let's take a look at some features of the diabetes dataset."
   ]
  },
  {
   "cell_type": "code",
   "execution_count": 29,
   "id": "6e748478",
   "metadata": {},
   "outputs": [
    {
     "data": {
      "text/html": [
       "<div>\n",
       "<style scoped>\n",
       "    .dataframe tbody tr th:only-of-type {\n",
       "        vertical-align: middle;\n",
       "    }\n",
       "\n",
       "    .dataframe tbody tr th {\n",
       "        vertical-align: top;\n",
       "    }\n",
       "\n",
       "    .dataframe thead th {\n",
       "        text-align: right;\n",
       "    }\n",
       "</style>\n",
       "<table border=\"1\" class=\"dataframe\">\n",
       "  <thead>\n",
       "    <tr style=\"text-align: right;\">\n",
       "      <th></th>\n",
       "      <th>User ID</th>\n",
       "      <th>Age</th>\n",
       "      <th>EstimatedSalary</th>\n",
       "      <th>Purchased</th>\n",
       "    </tr>\n",
       "  </thead>\n",
       "  <tbody>\n",
       "    <tr>\n",
       "      <th>count</th>\n",
       "      <td>4.000000e+02</td>\n",
       "      <td>400.000000</td>\n",
       "      <td>400.000000</td>\n",
       "      <td>400.000000</td>\n",
       "    </tr>\n",
       "    <tr>\n",
       "      <th>mean</th>\n",
       "      <td>1.569154e+07</td>\n",
       "      <td>37.654999</td>\n",
       "      <td>69742.500000</td>\n",
       "      <td>0.357500</td>\n",
       "    </tr>\n",
       "    <tr>\n",
       "      <th>std</th>\n",
       "      <td>7.165832e+04</td>\n",
       "      <td>10.482878</td>\n",
       "      <td>34096.964844</td>\n",
       "      <td>0.479864</td>\n",
       "    </tr>\n",
       "    <tr>\n",
       "      <th>min</th>\n",
       "      <td>1.556669e+07</td>\n",
       "      <td>18.000000</td>\n",
       "      <td>15000.000000</td>\n",
       "      <td>0.000000</td>\n",
       "    </tr>\n",
       "    <tr>\n",
       "      <th>25%</th>\n",
       "      <td>1.562676e+07</td>\n",
       "      <td>29.750000</td>\n",
       "      <td>43000.000000</td>\n",
       "      <td>0.000000</td>\n",
       "    </tr>\n",
       "    <tr>\n",
       "      <th>50%</th>\n",
       "      <td>1.569434e+07</td>\n",
       "      <td>37.000000</td>\n",
       "      <td>70000.000000</td>\n",
       "      <td>0.000000</td>\n",
       "    </tr>\n",
       "    <tr>\n",
       "      <th>75%</th>\n",
       "      <td>1.575036e+07</td>\n",
       "      <td>46.000000</td>\n",
       "      <td>88000.000000</td>\n",
       "      <td>1.000000</td>\n",
       "    </tr>\n",
       "    <tr>\n",
       "      <th>max</th>\n",
       "      <td>1.581524e+07</td>\n",
       "      <td>60.000000</td>\n",
       "      <td>150000.000000</td>\n",
       "      <td>1.000000</td>\n",
       "    </tr>\n",
       "  </tbody>\n",
       "</table>\n",
       "</div>"
      ],
      "text/plain": [
       "            User ID         Age  EstimatedSalary   Purchased\n",
       "count  4.000000e+02  400.000000       400.000000  400.000000\n",
       "mean   1.569154e+07   37.654999     69742.500000    0.357500\n",
       "std    7.165832e+04   10.482878     34096.964844    0.479864\n",
       "min    1.556669e+07   18.000000     15000.000000    0.000000\n",
       "25%    1.562676e+07   29.750000     43000.000000    0.000000\n",
       "50%    1.569434e+07   37.000000     70000.000000    0.000000\n",
       "75%    1.575036e+07   46.000000     88000.000000    1.000000\n",
       "max    1.581524e+07   60.000000    150000.000000    1.000000"
      ]
     },
     "execution_count": 29,
     "metadata": {},
     "output_type": "execute_result"
    }
   ],
   "source": [
    "df.describe()"
   ]
  },
  {
   "cell_type": "markdown",
   "id": "d28eb945",
   "metadata": {},
   "source": [
    "Plot the histograms of \"Age\", \"EstimatedSalary\" and \"Purchased\":"
   ]
  },
  {
   "cell_type": "code",
   "execution_count": 30,
   "id": "3236c814",
   "metadata": {},
   "outputs": [
    {
     "data": {
      "image/png": "[encoded data removed]",
      "text/plain": [
       "<Figure size 1296x432 with 3 Axes>"
      ]
     },
     "metadata": {
      "needs_background": "light"
     },
     "output_type": "display_data"
    }
   ],
   "source": [
    "fig, ax = plt.subplots(1, 3, figsize = (18, 6))\n",
    "ax[0].hist(df.Age, bins = 20)\n",
    "ax[0].set_xlabel(\"Age\")\n",
    "ax[1].hist(df.EstimatedSalary, bins = 8)\n",
    "ax[1].set_xlabel(\"EstimatedSalary\")\n",
    "ax[2].hist(df.Purchased)\n",
    "ax[2].set_xlabel(\"Purchasd\")\n",
    "plt.show()"
   ]
  },
  {
   "cell_type": "markdown",
   "id": "f2db043d",
   "metadata": {},
   "source": [
    "Set X to be \"Age\" and \"Estimated Salary\". Set y to be \"Purchased\"."
   ]
  },
  {
   "cell_type": "code",
   "execution_count": 31,
   "id": "fd08f847",
   "metadata": {},
   "outputs": [],
   "source": [
    "X = df[[\"Age\", \"EstimatedSalary\"]].to_numpy()\n",
    "Y = df[\"Purchased\"].to_numpy()"
   ]
  },
  {
   "cell_type": "markdown",
   "id": "a033a47f",
   "metadata": {},
   "source": [
    "### Feature Scaling or Min-Max Normalization\n",
    "Since the range of values of raw data varies widely, in some machine learning algorithms, objective functions will not work properly without normalization. Therefore, the range of all features should be normalized so that each feature contributes approximately proportionately to the final distance.\n",
    "\n",
    "$$\n",
    "x' = \\frac{x - min(x)}{max(x) - min(x)}\n",
    "$$\n",
    "\n",
    "where x is an original value, x' is the normalized value."
   ]
  },
  {
   "cell_type": "code",
   "execution_count": 32,
   "id": "83353a16",
   "metadata": {},
   "outputs": [],
   "source": [
    "X[:, 0] = (X[:, 0] - np.min(X[:, 0]))/(np.max(X[:, 0] - np.min(X[:, 0])))\n",
    "X[:, 1] = (X[:, 1] - np.min(X[:, 1]))/(np.max(X[:, 1] - np.min(X[:, 1])))"
   ]
  },
  {
   "cell_type": "markdown",
   "id": "421b5989",
   "metadata": {},
   "source": [
    "Plot Age vs Estimated Salary:"
   ]
  },
  {
   "cell_type": "code",
   "execution_count": 33,
   "id": "cb48148b",
   "metadata": {},
   "outputs": [
    {
     "data": {
      "text/plain": [
       "Text(0, 0.5, 'Estimated Salary (normalized)')"
      ]
     },
     "execution_count": 33,
     "metadata": {},
     "output_type": "execute_result"
    },
    {
     "data": {
      "image/png": "[encoded data removed]",
      "text/plain": [
       "<Figure size 720x432 with 1 Axes>"
      ]
     },
     "metadata": {
      "needs_background": "light"
     },
     "output_type": "display_data"
    }
   ],
   "source": [
    "plt.figure(figsize = (10, 6))\n",
    "plt.scatter(X[:, 0], X[:, 1], c = Y)\n",
    "plt.title(\"Age vs Estimated Salary\")\n",
    "plt.xlabel(\"Age (normalized)\")\n",
    "plt.ylabel(\"Estimated Salary (normalized)\")"
   ]
  },
  {
   "cell_type": "markdown",
   "id": "3f51429a",
   "metadata": {},
   "source": [
    "Purple represents \"NOT purchased\", and yellow represents \"purchased\". There is a clear boundary between purple dots and yellow dots."
   ]
  },
  {
   "cell_type": "markdown",
   "id": "5db072ae",
   "metadata": {},
   "source": [
    "Plot \"Age\" vs \"Purchased\" (1 is purchased, and 0 is not purchased)."
   ]
  },
  {
   "cell_type": "code",
   "execution_count": 34,
   "id": "a26cbc04",
   "metadata": {},
   "outputs": [
    {
     "data": {
      "text/plain": [
       "Text(0, 0.5, 'Purchased or not')"
      ]
     },
     "execution_count": 34,
     "metadata": {},
     "output_type": "execute_result"
    },
    {
     "data": {
      "image/png": "[encoded data removed]",
      "text/plain": [
       "<Figure size 720x432 with 1 Axes>"
      ]
     },
     "metadata": {
      "needs_background": "light"
     },
     "output_type": "display_data"
    }
   ],
   "source": [
    "plt.figure(figsize=(10, 6))\n",
    "plt.scatter(X[:, 0], Y, c = Y)\n",
    "plt.title(\"Age vs Purchased or not\")\n",
    "plt.xlabel(\"Age (normalized)\")\n",
    "plt.ylabel(\"Purchased or not\")"
   ]
  },
  {
   "cell_type": "markdown",
   "id": "972ca8a3",
   "metadata": {},
   "source": [
    "### Sigmoid function\n",
    "\n",
    "Define a sigmoid function:"
   ]
  },
  {
   "cell_type": "code",
   "execution_count": 35,
   "id": "439bf7c8",
   "metadata": {},
   "outputs": [
    {
     "data": {
      "text/plain": [
       "[<matplotlib.lines.Line2D at 0x7fdc330c2c40>]"
      ]
     },
     "execution_count": 35,
     "metadata": {},
     "output_type": "execute_result"
    },
    {
     "data": {
      "image/png": "[encoded data removed]",
      "text/plain": [
       "<Figure size 720x432 with 1 Axes>"
      ]
     },
     "metadata": {
      "needs_background": "light"
     },
     "output_type": "display_data"
    }
   ],
   "source": [
    "def sigmoid(z):\n",
    "    return 1.0/(1.0 + np.exp(-z))\n",
    "\n",
    "domain = np.arange(-10, 10, .25)\n",
    "plt.figure(figsize=(10, 6))\n",
    "plt.plot(domain, sigmoid(domain))"
   ]
  },
  {
   "cell_type": "markdown",
   "id": "8ff929a4",
   "metadata": {},
   "source": [
    "### Loss function\n",
    "\n",
    "Define the cross entropy loss (CEL) function:"
   ]
  },
  {
   "cell_type": "code",
   "execution_count": 36,
   "id": "ea5fc2ae",
   "metadata": {},
   "outputs": [],
   "source": [
    "def cross_entropy_loss(y, y_hat):\n",
    "    return -y*np.log(y_hat) - (1.0 - y)*np.log(1.0 - y_hat)"
   ]
  },
  {
   "cell_type": "markdown",
   "id": "5ecd9016",
   "metadata": {},
   "source": [
    "Define a function for partial derivatives:\n",
    "\n",
    "$$\n",
    "\\frac{\\partial L}{\\partial w_j} = [\\sigma(w_j x_j + bias) − y]x_j = [\\hat{y} - y]x_j\n",
    "$$\n",
    "\n",
    "\n",
    "$$\n",
    "\\frac{\\partial L}{\\partial b} = \\sigma(w_j x_j + bias)−y = \\hat{y} - y\n",
    "$$\n",
    "\n",
    "Also, define a feed-forward function."
   ]
  },
  {
   "cell_type": "code",
   "execution_count": 46,
   "id": "81edafb2",
   "metadata": {},
   "outputs": [],
   "source": [
    "def cross_entropy_gradient(y, y_hat, x, with_bias = True):\n",
    "    if with_bias == True:\n",
    "        dw = (y_hat - y)*x\n",
    "        db = (y_hat - y)\n",
    "        return dw, db \n",
    "    \n",
    "def feed_forward(x, w, b, with_bias = True):\n",
    "    if with_bias == True:\n",
    "        return sigmoid(w @ x + b)"
   ]
  },
  {
   "cell_type": "markdown",
   "id": "02261c3a",
   "metadata": {},
   "source": [
    "Sample the initial values of w and b from a normal distribution. Set the learning rate $\\alpha$ to 0.25."
   ]
  },
  {
   "cell_type": "code",
   "execution_count": 47,
   "id": "e1038b6d",
   "metadata": {},
   "outputs": [
    {
     "data": {
      "text/plain": [
       "0.5989146978677894"
      ]
     },
     "execution_count": 47,
     "metadata": {},
     "output_type": "execute_result"
    }
   ],
   "source": [
    "w = np.random.randn(2)\n",
    "b = np.random.randn()\n",
    "alpha = 0.25\n",
    "feed_forward(X[0], w, b)"
   ]
  },
  {
   "cell_type": "markdown",
   "id": "4f8a03af",
   "metadata": {},
   "source": [
    "Now, let's implement a stochastic gradient descent for 10000 times."
   ]
  },
  {
   "cell_type": "code",
   "execution_count": 48,
   "id": "d119b1ce",
   "metadata": {},
   "outputs": [
    {
     "name": "stdout",
     "output_type": "stream",
     "text": [
      "Total Loss at time 1 = 296.6435226305866\n",
      "Total Loss at time 1001 = 151.33770301018671\n",
      "Total Loss at time 2001 = 142.52339926778114\n",
      "Total Loss at time 3001 = 140.1381866756639\n",
      "Total Loss at time 4001 = 139.25193362455852\n",
      "Total Loss at time 5001 = 138.8729234070284\n",
      "Total Loss at time 6001 = 138.69783095605928\n",
      "Total Loss at time 7001 = 138.61304675888792\n",
      "Total Loss at time 8001 = 138.57072248576824\n",
      "Total Loss at time 9001 = 138.54915699812813\n"
     ]
    }
   ],
   "source": [
    "# Implement Stochastic Gradient Descent \n",
    "for j in range(10_000):\n",
    "    i = np.random.randint(len(Y))\n",
    "    x = X[i, :]\n",
    "    y = Y[i]\n",
    "    temp_dw = []\n",
    "    temp_db = []\n",
    "    for x, y in zip(X, Y):\n",
    "        y_hat = feed_forward(x, w, b)\n",
    "        dw, db = cross_entropy_gradient(y, y_hat, x)\n",
    "        # w -= alpha*dw\n",
    "        # b -= alpha*db\n",
    "        temp_dw.append(dw)\n",
    "        temp_db.append(db)\n",
    "        \n",
    "    dw = sum(temp_dw)/len(temp_dw)\n",
    "    db = sum(temp_db)/len(temp_db)\n",
    "    w -= alpha*dw\n",
    "    b -= alpha*db\n",
    "    \n",
    "    total_loss = sum(cross_entropy_loss(Y[i], feed_forward(x, w, b))\n",
    "                    for i, x in enumerate(X))\n",
    "    if j % 1_000 == 0:\n",
    "        print(f\"Total Loss at time {j+1} = {total_loss}\")"
   ]
  },
  {
   "cell_type": "markdown",
   "id": "aadfcd92",
   "metadata": {},
   "source": [
    "Define a prediction function:"
   ]
  },
  {
   "cell_type": "code",
   "execution_count": 49,
   "id": "46aaed60",
   "metadata": {},
   "outputs": [],
   "source": [
    "def make_prediction(x, w, b):\n",
    "    y_hat = feed_forward(x, w, b)\n",
    "    labels = np.array([1, 0])\n",
    "    return np.random.choice(labels, p = [y_hat, 1.0 - y_hat])"
   ]
  },
  {
   "cell_type": "markdown",
   "id": "c192c083",
   "metadata": {},
   "source": [
    "Compute the classification percentage:"
   ]
  },
  {
   "cell_type": "markdown",
   "id": "c20b3273",
   "metadata": {},
   "source": [
    "### Outcome"
   ]
  },
  {
   "cell_type": "code",
   "execution_count": 50,
   "id": "f710b832",
   "metadata": {},
   "outputs": [
    {
     "name": "stdout",
     "output_type": "stream",
     "text": [
      "Classification Percentage = 79.25%\n"
     ]
    }
   ],
   "source": [
    "hits = 0\n",
    "for x, y in zip(X, Y):\n",
    "    y_hat = make_prediction(x, w, b)\n",
    "    hits += int(y_hat == y)\n",
    "    # print(f\"Prediction: {y_hat}\")\n",
    "    # print(f\"True label: {y}\")\n",
    "    # print()\n",
    "print(f\"Classification Percentage = {100* (hits/len(Y))}%\")"
   ]
  },
  {
   "cell_type": "markdown",
   "id": "0b039a0e",
   "metadata": {},
   "source": [
    "We see that the classification percentage is 79.25%, which is relatively accurate."
   ]
  },
  {
   "cell_type": "markdown",
   "id": "d3dd5821",
   "metadata": {},
   "source": [
    "---\n",
    "# References\n",
    "\n",
    "Logistic regression. Wikipedia. https://en.wikipedia.org/wiki/Logistic_regression\n",
    "\n",
    "Pant, Ayush. Introduction to logistic regression. Jan 2019. https://towardsdatascience.com/"
   ]
  }
 ],
 "metadata": {
  "kernelspec": {
   "display_name": "Python 3",
   "language": "python",
   "name": "python3"
  },
  "language_info": {
   "codemirror_mode": {
    "name": "ipython",
    "version": 3
   },
   "file_extension": ".py",
   "mimetype": "text/x-python",
   "name": "python",
   "nbconvert_exporter": "python",
   "pygments_lexer": "ipython3",
   "version": "3.8.8"
  }
 },
 "nbformat": 4,
 "nbformat_minor": 5
}
