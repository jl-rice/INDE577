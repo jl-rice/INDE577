{
 "cells": [
  {
   "cell_type": "markdown",
   "id": "4c98cabb",
   "metadata": {},
   "source": [
    "# Gradient Descent\n",
    "\n",
    "Gradient descent is a first-order iterative optimization machine learning algorithm used to minimize some function by iteratively moving in the direction of steepest descent as defined by the negative of the gradient. We use gradient descent to update the parameters of our model. Since gradient descent is commonly used to train machine learning models and neural networks, the parameters refer to coefficients in linear regression and weights in neural networks. \n",
    "\n",
    "<img src=\"http://rasbt.github.io/mlxtend/user_guide/general_concepts/gradient-optimization_files/ball.png\" width=\"500\" height=\"500\"/>\n",
    "\n",
    "### Basic concepts of neural networks:\n",
    "1. Weights and bias.\n",
    "2. Activation function.\n",
    "3. Loss function.\n",
    "\n",
    "### Steps to implement gradient descent in linear models:\n",
    "1. We start with a linear model $\\hat{y} = \\hat{w_i}X + b$. Our goal is to find the optimal linear function approximating the data. Here, $w$ and $b$ are weight and bias respectively.\n",
    "2. Define a loss function. A loss function tells us “how good” our model is at making predictions for a given set of parameters. The cost function has its own curve and its own gradients. The slope of this curve tells us how to update our parameters to make the model more accurate. The loss function is shown below, and M refers to the number of data points.\n",
    "\n",
    "$$\n",
    "L = \\frac{1}{2M}\\sum_{i = 1}^{M}(\\hat{w_i}x_i + b - y_i)^2\n",
    "$$\n",
    "\n",
    "3. Use gradient descent to calculate the gradient of the loss function.\n",
    "$$\n",
    "\\frac{\\partial L}{\\partial w} = \\frac{1}{M}\\sum_{i = 1}^{M}(\\hat{w_i}x_i + b - y_i)x_i\n",
    "$$\n",
    "\n",
    "$$\n",
    "\\frac{\\partial L}{\\partial b} = \\frac{1}{M}\\sum_{i = 1}^{M}(\\hat{w_i}x_i + b - y_i)\n",
    "$$\n",
    "\n",
    "4. Choose a learning rate $\\alpha$. Also, select a max_iteration, and set count to 0.\n",
    "5. While count is smaller than  max_iteration, we update $\\hat{w} = \\hat{w} - \\alpha\\frac{\\partial L}{\\partial w}$, and update $b = b - \\alpha\\frac{\\partial L}{\\partial b}$. Count increases by 1."
   ]
  },
  {
   "cell_type": "markdown",
   "id": "4fc09fb8",
   "metadata": {},
   "source": [
    "# My Implementation On Real Estate Dataset\n",
    "\n",
    "I choose the real estate data to implement gradient descent. There are 6 predictor variables and 1 target variable in total:\n",
    "\n",
    "### Predictor variable:\n",
    "1. X1 transaction date\n",
    "2. X2 house age\n",
    "3. X3 distance to the nearest MRT station\n",
    "4. X4 number of convenience stores\n",
    "5. X5 latitude\n",
    "6. X6 longitude\n",
    "\n",
    "### Target variable:\n",
    "1. Y house price of unit area\n",
    "\n",
    "Our goal is to find the optimal linear function approximating the data."
   ]
  },
  {
   "cell_type": "markdown",
   "id": "897ad7d7",
   "metadata": {},
   "source": [
    "# Coding Part"
   ]
  },
  {
   "cell_type": "code",
   "execution_count": 12,
   "id": "8319f9d4",
   "metadata": {},
   "outputs": [],
   "source": [
    "import matplotlib.pyplot as plt\n",
    "import numpy as np\n",
    "import pandas as pd\n",
    "from sklearn import preprocessing\n",
    "\n",
    "# Import the real estate data\n",
    "df = pd.read_csv('real_estate.csv')"
   ]
  },
  {
   "cell_type": "code",
   "execution_count": 13,
   "id": "c565a025",
   "metadata": {},
   "outputs": [
    {
     "data": {
      "text/html": [
       "<div>\n",
       "<style scoped>\n",
       "    .dataframe tbody tr th:only-of-type {\n",
       "        vertical-align: middle;\n",
       "    }\n",
       "\n",
       "    .dataframe tbody tr th {\n",
       "        vertical-align: top;\n",
       "    }\n",
       "\n",
       "    .dataframe thead th {\n",
       "        text-align: right;\n",
       "    }\n",
       "</style>\n",
       "<table border=\"1\" class=\"dataframe\">\n",
       "  <thead>\n",
       "    <tr style=\"text-align: right;\">\n",
       "      <th></th>\n",
       "      <th>No</th>\n",
       "      <th>X1 transaction date</th>\n",
       "      <th>X2 house age</th>\n",
       "      <th>X3 distance to the nearest MRT station</th>\n",
       "      <th>X4 number of convenience stores</th>\n",
       "      <th>X5 latitude</th>\n",
       "      <th>X6 longitude</th>\n",
       "      <th>Y house price of unit area</th>\n",
       "    </tr>\n",
       "  </thead>\n",
       "  <tbody>\n",
       "    <tr>\n",
       "      <th>0</th>\n",
       "      <td>1</td>\n",
       "      <td>2012.917</td>\n",
       "      <td>32.0</td>\n",
       "      <td>84.87882</td>\n",
       "      <td>10</td>\n",
       "      <td>24.98298</td>\n",
       "      <td>121.54024</td>\n",
       "      <td>37.9</td>\n",
       "    </tr>\n",
       "    <tr>\n",
       "      <th>1</th>\n",
       "      <td>2</td>\n",
       "      <td>2012.917</td>\n",
       "      <td>19.5</td>\n",
       "      <td>306.59470</td>\n",
       "      <td>9</td>\n",
       "      <td>24.98034</td>\n",
       "      <td>121.53951</td>\n",
       "      <td>42.2</td>\n",
       "    </tr>\n",
       "    <tr>\n",
       "      <th>2</th>\n",
       "      <td>3</td>\n",
       "      <td>2013.583</td>\n",
       "      <td>13.3</td>\n",
       "      <td>561.98450</td>\n",
       "      <td>5</td>\n",
       "      <td>24.98746</td>\n",
       "      <td>121.54391</td>\n",
       "      <td>47.3</td>\n",
       "    </tr>\n",
       "    <tr>\n",
       "      <th>3</th>\n",
       "      <td>4</td>\n",
       "      <td>2013.500</td>\n",
       "      <td>13.3</td>\n",
       "      <td>561.98450</td>\n",
       "      <td>5</td>\n",
       "      <td>24.98746</td>\n",
       "      <td>121.54391</td>\n",
       "      <td>54.8</td>\n",
       "    </tr>\n",
       "    <tr>\n",
       "      <th>4</th>\n",
       "      <td>5</td>\n",
       "      <td>2012.833</td>\n",
       "      <td>5.0</td>\n",
       "      <td>390.56840</td>\n",
       "      <td>5</td>\n",
       "      <td>24.97937</td>\n",
       "      <td>121.54245</td>\n",
       "      <td>43.1</td>\n",
       "    </tr>\n",
       "  </tbody>\n",
       "</table>\n",
       "</div>"
      ],
      "text/plain": [
       "   No  X1 transaction date  X2 house age  \\\n",
       "0   1             2012.917          32.0   \n",
       "1   2             2012.917          19.5   \n",
       "2   3             2013.583          13.3   \n",
       "3   4             2013.500          13.3   \n",
       "4   5             2012.833           5.0   \n",
       "\n",
       "   X3 distance to the nearest MRT station  X4 number of convenience stores  \\\n",
       "0                                84.87882                               10   \n",
       "1                               306.59470                                9   \n",
       "2                               561.98450                                5   \n",
       "3                               561.98450                                5   \n",
       "4                               390.56840                                5   \n",
       "\n",
       "   X5 latitude  X6 longitude  Y house price of unit area  \n",
       "0     24.98298     121.54024                        37.9  \n",
       "1     24.98034     121.53951                        42.2  \n",
       "2     24.98746     121.54391                        47.3  \n",
       "3     24.98746     121.54391                        54.8  \n",
       "4     24.97937     121.54245                        43.1  "
      ]
     },
     "execution_count": 13,
     "metadata": {},
     "output_type": "execute_result"
    }
   ],
   "source": [
    "df.head()"
   ]
  },
  {
   "cell_type": "markdown",
   "id": "09c65bd3",
   "metadata": {},
   "source": [
    "Let's take a look at some features of the diabetes dataset."
   ]
  },
  {
   "cell_type": "code",
   "execution_count": 14,
   "id": "20785110",
   "metadata": {},
   "outputs": [
    {
     "data": {
      "text/html": [
       "<div>\n",
       "<style scoped>\n",
       "    .dataframe tbody tr th:only-of-type {\n",
       "        vertical-align: middle;\n",
       "    }\n",
       "\n",
       "    .dataframe tbody tr th {\n",
       "        vertical-align: top;\n",
       "    }\n",
       "\n",
       "    .dataframe thead th {\n",
       "        text-align: right;\n",
       "    }\n",
       "</style>\n",
       "<table border=\"1\" class=\"dataframe\">\n",
       "  <thead>\n",
       "    <tr style=\"text-align: right;\">\n",
       "      <th></th>\n",
       "      <th>X1 transaction date</th>\n",
       "      <th>X2 house age</th>\n",
       "      <th>X3 distance to the nearest MRT station</th>\n",
       "      <th>X4 number of convenience stores</th>\n",
       "      <th>X5 latitude</th>\n",
       "      <th>X6 longitude</th>\n",
       "      <th>Y house price of unit area</th>\n",
       "    </tr>\n",
       "  </thead>\n",
       "  <tbody>\n",
       "    <tr>\n",
       "      <th>count</th>\n",
       "      <td>414.000000</td>\n",
       "      <td>414.000000</td>\n",
       "      <td>414.000000</td>\n",
       "      <td>414.000000</td>\n",
       "      <td>414.000000</td>\n",
       "      <td>414.000000</td>\n",
       "      <td>414.000000</td>\n",
       "    </tr>\n",
       "    <tr>\n",
       "      <th>mean</th>\n",
       "      <td>2013.148971</td>\n",
       "      <td>17.712560</td>\n",
       "      <td>1083.885689</td>\n",
       "      <td>4.094203</td>\n",
       "      <td>24.969030</td>\n",
       "      <td>121.533361</td>\n",
       "      <td>37.980193</td>\n",
       "    </tr>\n",
       "    <tr>\n",
       "      <th>std</th>\n",
       "      <td>0.281967</td>\n",
       "      <td>11.392485</td>\n",
       "      <td>1262.109595</td>\n",
       "      <td>2.945562</td>\n",
       "      <td>0.012410</td>\n",
       "      <td>0.015347</td>\n",
       "      <td>13.606488</td>\n",
       "    </tr>\n",
       "    <tr>\n",
       "      <th>min</th>\n",
       "      <td>2012.667000</td>\n",
       "      <td>0.000000</td>\n",
       "      <td>23.382840</td>\n",
       "      <td>0.000000</td>\n",
       "      <td>24.932070</td>\n",
       "      <td>121.473530</td>\n",
       "      <td>7.600000</td>\n",
       "    </tr>\n",
       "    <tr>\n",
       "      <th>25%</th>\n",
       "      <td>2012.917000</td>\n",
       "      <td>9.025000</td>\n",
       "      <td>289.324800</td>\n",
       "      <td>1.000000</td>\n",
       "      <td>24.963000</td>\n",
       "      <td>121.528085</td>\n",
       "      <td>27.700000</td>\n",
       "    </tr>\n",
       "    <tr>\n",
       "      <th>50%</th>\n",
       "      <td>2013.167000</td>\n",
       "      <td>16.100000</td>\n",
       "      <td>492.231300</td>\n",
       "      <td>4.000000</td>\n",
       "      <td>24.971100</td>\n",
       "      <td>121.538630</td>\n",
       "      <td>38.450000</td>\n",
       "    </tr>\n",
       "    <tr>\n",
       "      <th>75%</th>\n",
       "      <td>2013.417000</td>\n",
       "      <td>28.150000</td>\n",
       "      <td>1454.279000</td>\n",
       "      <td>6.000000</td>\n",
       "      <td>24.977455</td>\n",
       "      <td>121.543305</td>\n",
       "      <td>46.600000</td>\n",
       "    </tr>\n",
       "    <tr>\n",
       "      <th>max</th>\n",
       "      <td>2013.583000</td>\n",
       "      <td>43.800000</td>\n",
       "      <td>6488.021000</td>\n",
       "      <td>10.000000</td>\n",
       "      <td>25.014590</td>\n",
       "      <td>121.566270</td>\n",
       "      <td>117.500000</td>\n",
       "    </tr>\n",
       "  </tbody>\n",
       "</table>\n",
       "</div>"
      ],
      "text/plain": [
       "       X1 transaction date  X2 house age  \\\n",
       "count           414.000000    414.000000   \n",
       "mean           2013.148971     17.712560   \n",
       "std               0.281967     11.392485   \n",
       "min            2012.667000      0.000000   \n",
       "25%            2012.917000      9.025000   \n",
       "50%            2013.167000     16.100000   \n",
       "75%            2013.417000     28.150000   \n",
       "max            2013.583000     43.800000   \n",
       "\n",
       "       X3 distance to the nearest MRT station  \\\n",
       "count                              414.000000   \n",
       "mean                              1083.885689   \n",
       "std                               1262.109595   \n",
       "min                                 23.382840   \n",
       "25%                                289.324800   \n",
       "50%                                492.231300   \n",
       "75%                               1454.279000   \n",
       "max                               6488.021000   \n",
       "\n",
       "       X4 number of convenience stores  X5 latitude  X6 longitude  \\\n",
       "count                       414.000000   414.000000    414.000000   \n",
       "mean                          4.094203    24.969030    121.533361   \n",
       "std                           2.945562     0.012410      0.015347   \n",
       "min                           0.000000    24.932070    121.473530   \n",
       "25%                           1.000000    24.963000    121.528085   \n",
       "50%                           4.000000    24.971100    121.538630   \n",
       "75%                           6.000000    24.977455    121.543305   \n",
       "max                          10.000000    25.014590    121.566270   \n",
       "\n",
       "       Y house price of unit area  \n",
       "count                  414.000000  \n",
       "mean                    37.980193  \n",
       "std                     13.606488  \n",
       "min                      7.600000  \n",
       "25%                     27.700000  \n",
       "50%                     38.450000  \n",
       "75%                     46.600000  \n",
       "max                    117.500000  "
      ]
     },
     "execution_count": 14,
     "metadata": {},
     "output_type": "execute_result"
    }
   ],
   "source": [
    "df.iloc[:, 1:8].describe()"
   ]
  },
  {
   "cell_type": "markdown",
   "id": "813e0e0b",
   "metadata": {},
   "source": [
    "Now, we set X to be \"X3 distance to the nearest MRT station\" and set y to be \"Y house price of unit area\". Then normalize X and y using preprocessing imported from sklearn."
   ]
  },
  {
   "cell_type": "code",
   "execution_count": 15,
   "id": "767e7b0b",
   "metadata": {},
   "outputs": [],
   "source": [
    "X = df['X3 distance to the nearest MRT station']\n",
    "y = df['Y house price of unit area']\n",
    "X = preprocessing.scale(X)\n",
    "y = preprocessing.scale(y)"
   ]
  },
  {
   "cell_type": "markdown",
   "id": "d9b3676c",
   "metadata": {},
   "source": [
    "Define a loss function:"
   ]
  },
  {
   "cell_type": "code",
   "execution_count": 16,
   "id": "1ca7d477",
   "metadata": {},
   "outputs": [],
   "source": [
    "def loss(X, y, w, b):\n",
    "    M = len(y)\n",
    "    MSE_loss = sum(0.5*(x*w+b-y[i])**2 \n",
    "               for i,x in enumerate(X))/M\n",
    "    return MSE_loss"
   ]
  },
  {
   "cell_type": "markdown",
   "id": "83dead01",
   "metadata": {},
   "source": [
    "###  Set $\\alpha = 0.12$"
   ]
  },
  {
   "cell_type": "markdown",
   "id": "b40d071e",
   "metadata": {},
   "source": [
    "Set the learning rate $\\alpha$ to 0.12 and define a function for gradient descent."
   ]
  },
  {
   "cell_type": "code",
   "execution_count": 33,
   "id": "534750f0",
   "metadata": {},
   "outputs": [],
   "source": [
    "alpha = 0.12 #learning rate\n",
    "def gradL(X, y, w, b): \n",
    "    M = len(y)\n",
    "    partial_w = sum((x*w+b-y[i])*x for i,x in enumerate(X))/M\n",
    "    partial_b = sum((x*w+b-y[i]) for i,x in enumerate(X))/M\n",
    "    return partial_w, partial_b"
   ]
  },
  {
   "cell_type": "markdown",
   "id": "8de9bc60",
   "metadata": {},
   "source": [
    "We then plot the linear regression lines with different iterations $\\in$ {10, 20, 30, 50} using $\\alpha = 0.12$. From the plot, we see that all the lines are downward-sloping, indicating that as the distance to the nearest MRT station increases, the house price of unit area decreases. This result is reasonable."
   ]
  },
  {
   "cell_type": "code",
   "execution_count": 34,
   "id": "85668eb2",
   "metadata": {},
   "outputs": [
    {
     "name": "stdout",
     "output_type": "stream",
     "text": [
      "Loss at iter10 = 0.3113569301738707\n",
      "Loss at iter20 = 0.27608840179375943\n",
      "Loss at iter30 = 0.2733528762050902\n",
      "Loss at iter50 = 0.2731242443121024\n"
     ]
    },
    {
     "data": {
      "image/png": "[encoded data removed]",
      "text/plain": [
       "<Figure size 864x576 with 1 Axes>"
      ]
     },
     "metadata": {
      "needs_background": "light"
     },
     "output_type": "display_data"
    }
   ],
   "source": [
    "random_vec = np.random.rand(2)\n",
    "w = random_vec[0]\n",
    "b = random_vec[1]\n",
    "plt.figure(figsize = (12, 8))\n",
    "plt.scatter(X,y)\n",
    "\n",
    "colors = {10:'blue', 20:'green', 30:'orange' , 50:'red'}\n",
    "for i in range(51):\n",
    "    dw,db = gradL(X, y, w, b)\n",
    "    w -= alpha*dw\n",
    "    b -= alpha*db\n",
    "    L = loss(X,y,w,b)\n",
    "    if i in [10, 20, 30, 50]:\n",
    "        print(f'Loss at iter{i} = {L}')\n",
    "        plt.plot(X, [w*x+b for x in X], label = f'iter{i}', color = colors[i])\n",
    "plt.legend()\n",
    "plt.show()  "
   ]
  },
  {
   "cell_type": "markdown",
   "id": "9dbd9fad",
   "metadata": {},
   "source": [
    "###  Set $\\alpha = 0.01$\n",
    "\n",
    "Then, we set the learning rate $\\alpha$ to a much smaller value 0.01 and replot the linear lines."
   ]
  },
  {
   "cell_type": "code",
   "execution_count": 36,
   "id": "0d1d79a9",
   "metadata": {},
   "outputs": [
    {
     "name": "stdout",
     "output_type": "stream",
     "text": [
      "Loss at iter10 = 1.1001741187059209\n",
      "Loss at iter20 = 0.949573822342581\n",
      "Loss at iter30 = 0.826396795142809\n",
      "Loss at iter50 = 0.6432474975422948\n"
     ]
    },
    {
     "data": {
      "image/png": "[encoded data removed]",
      "text/plain": [
       "<Figure size 864x576 with 1 Axes>"
      ]
     },
     "metadata": {
      "needs_background": "light"
     },
     "output_type": "display_data"
    }
   ],
   "source": [
    "alpha = 0.01\n",
    "random_vec = np.random.rand(2)\n",
    "w = random_vec[0]\n",
    "b = random_vec[1]\n",
    "plt.figure(figsize = (12,8))\n",
    "plt.scatter(X,y)\n",
    "\n",
    "colors = {10:'blue', 20:'green', 30:'orange' , 50:'red'}\n",
    "for i in range(51):\n",
    "    dw,db = gradL(X, y, w, b)\n",
    "    w -= alpha*dw\n",
    "    b -= alpha*db\n",
    "    L = loss(X,y,w,b)\n",
    "    if i in [10, 20, 30, 50]:\n",
    "        print(f'Loss at iter{i} = {L}')\n",
    "        plt.plot(X, [w*x+b for x in X], label = f'iter{i}', color = colors[i])\n",
    "plt.legend()\n",
    "plt.show()"
   ]
  },
  {
   "cell_type": "markdown",
   "id": "fab104b3",
   "metadata": {},
   "source": [
    "When $\\alpha = 0.01$, it is surprising to see that all lines are upward-sloping, and these lines do not conform with the scatter plot well. Furthermore, it is unreasonable that as the distance to the nearest MRT station increases, the house price of unit area also increases. Since $\\alpha = 0.01$ indicates that the learning process is slower, we might conclude that a smaller $\\alpha$ does not allow the model to learn sufficiently."
   ]
  },
  {
   "cell_type": "markdown",
   "id": "3423fafc",
   "metadata": {},
   "source": [
    "###  Set $\\alpha = 0.3$\n",
    "\n",
    "Now, let's try a much larger learning rate $\\alpha = 0.3$."
   ]
  },
  {
   "cell_type": "code",
   "execution_count": 38,
   "id": "4f9b4f51",
   "metadata": {},
   "outputs": [
    {
     "name": "stdout",
     "output_type": "stream",
     "text": [
      "Loss at iter10 = 0.2734057076422814\n",
      "Loss at iter20 = 0.27312308623097875\n",
      "Loss at iter30 = 0.2731228607209497\n",
      "Loss at iter50 = 0.2731228605408665\n"
     ]
    },
    {
     "data": {
      "image/png": "[encoded data removed]",
      "text/plain": [
       "<Figure size 864x576 with 1 Axes>"
      ]
     },
     "metadata": {
      "needs_background": "light"
     },
     "output_type": "display_data"
    }
   ],
   "source": [
    "alpha = 0.3\n",
    "random_vec = np.random.rand(2)\n",
    "w = random_vec[0]\n",
    "b = random_vec[1]\n",
    "plt.figure(figsize = (12,8))\n",
    "plt.scatter(X,y)\n",
    "\n",
    "colors = {10:'blue', 20:'green', 30:'orange' , 50:'red'}\n",
    "for i in range(51):\n",
    "    dw,db = gradL(X, y, w, b)\n",
    "    w -= alpha*dw\n",
    "    b -= alpha*db\n",
    "    L = loss(X,y,w,b)\n",
    "    if i in [10, 20, 30, 50]:\n",
    "        print(f'Loss at iter{i} = {L}')\n",
    "        plt.plot(X, [w*x+b for x in X], label = f'iter{i}', color = colors[i])\n",
    "plt.legend()\n",
    "plt.show()"
   ]
  },
  {
   "cell_type": "markdown",
   "id": "36ab5f5b",
   "metadata": {},
   "source": [
    "When $\\alpha$ is 0.3, only the line for 10 iterations and the line for 50 iterations are shown in the plot, and they almost overlap. The losses are almost equal for four different iterations. The lines conform with the actual data well."
   ]
  },
  {
   "cell_type": "markdown",
   "id": "9bf24684",
   "metadata": {},
   "source": [
    "In conclusion, the larger the learning rate, the faster the model learns. Also, more iterations yield a smaller loss."
   ]
  },
  {
   "cell_type": "markdown",
   "id": "6ee1391a",
   "metadata": {},
   "source": [
    "# References\n",
    "\n",
    "Gradient descent. Wikipedia. https://en.wikipedia.org/wiki/Gradient_descent\n",
    "\n",
    "Gradient descent. 2017. https://ml-cheatsheet.readthedocs.io/en/latest/gradient_descent.html#gradient-descent"
   ]
  }
 ],
 "metadata": {
  "kernelspec": {
   "display_name": "Python 3",
   "language": "python",
   "name": "python3"
  },
  "language_info": {
   "codemirror_mode": {
    "name": "ipython",
    "version": 3
   },
   "file_extension": ".py",
   "mimetype": "text/x-python",
   "name": "python",
   "nbconvert_exporter": "python",
   "pygments_lexer": "ipython3",
   "version": "3.8.8"
  }
 },
 "nbformat": 4,
 "nbformat_minor": 5
}
