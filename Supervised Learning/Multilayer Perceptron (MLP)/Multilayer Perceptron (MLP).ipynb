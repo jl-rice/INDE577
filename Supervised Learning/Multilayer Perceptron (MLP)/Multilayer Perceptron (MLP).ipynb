{
 "cells": [
  {
   "cell_type": "markdown",
   "id": "8a05e0d2",
   "metadata": {},
   "source": [
    "# Multilayer Perceptron (MLP)\n",
    "\n",
    "Multilayer perceptron (MLP) is a supplement of feed forward neural network. It consists of three types of layers—the input layer, hidden layer, and output layer. The input layer receives the input signal to be processed. The required task such as prediction and classification is performed by the output layer. An arbitrary number of hidden layers that are placed in between the input and output layer are the true computational engine of the MLP. Similar to a feed forward network in a MLP the data flows in the forward direction from input to output layer. The neurons in the MLP are trained with the back propagation learning algorithm. MLPs are designed to approximate any continuous function and can solve problems which are not linearly separable. The major use cases of MLP are pattern classification, recognition, prediction and approximation.\n",
    "\n",
    "<img src=\"https://www.researchgate.net/profile/Ryan-Heartfield/publication/321341597/figure/fig5/AS:667675554480148@1536197665532/MLP-deep-learning-architecture.ppm\" width=\"550\" height=\"380\"/>\n",
    "\n",
    "### Layers and activation function\n",
    "\n",
    "The MLP consists of three or more layers (an input and an output layer with one or more hidden layers) of nonlinearly-activating nodes. Since MLPs are fully connected, each node in one layer connects with a certain weight ${\\displaystyle w_{ij}}$ to every node in the following layer. For each layer $l$, it will have two phases. The preactivation phase consists of a weighted linear combination of postactivation values in the previous layer. The postactivation values consists of passing the preactivation value through a chosen activation function elementwise. In MLP, some neurons use a nonlinear activation function. The two historically common activation functions are described by:\n",
    "\n",
    "$$\n",
    "y(\\upsilon_i) = tanh(\\upsilon_i)\n",
    "$$\n",
    "\n",
    "$$\n",
    "y(\\upsilon_i) = \\frac{1}{1 + e^{-\\upsilon_i}}\n",
    "$$\n",
    "\n",
    "In recent developments of deep learning the rectifier linear unit (ReLU) is more frequently used as one of the possible ways to overcome the numerical problems related to the sigmoids. The plot above uses the ReLU.\n",
    "\n",
    "### Learning\n",
    "\n",
    "Learning occurs in the perceptron by changing connection weights after each piece of data is processed, based on the amount of error in the output compared to the expected result. This is an example of supervised learning, and is carried out through backpropagation, a generalization of the least mean squares algorithm in the linear perceptron.\n",
    "\n",
    "We can represent the degree of error in an output node ${\\displaystyle j}$ in the ${\\displaystyle n}$th data point (training example) by ${\\displaystyle e_{j}(n)=d_{j}(n)-y_{j}(n)}$, where ${\\displaystyle d}$ is the target value and ${\\displaystyle y}$ is the value produced by the perceptron. The node weights can then be adjusted based on corrections that minimize the error in the entire output, given by ${\\displaystyle {\\mathcal {E}}(n)={\\frac {1}{2}}\\sum _{j}e_{j}^{2}(n)}$.\n",
    "\n",
    "Using gradient descent, the change in each weight is ${\\displaystyle \\Delta w_{ji}(n) = -\\eta {\\frac {\\partial {\\mathcal {E}}(n)}{\\partial v_{j}(n)}}y_{i}(n)}$, where ${\\displaystyle y_{i}}$ is the output of the previous neuron and ${\\displaystyle \\eta }$ is the learning rate, which is selected to ensure that the weights quickly converge to a response, without oscillations.\n",
    "\n",
    "### Mini Batch\n",
    "\n",
    "Mini batch divides the training data records into groups of approximately equal size, then updates the synaptic weights after passing one group; that is, mini-batch training uses information from a group of records. Then the process recycles the data group if necessary. Mini-batch training offers a compromise between batch and online training, and it may be best for \"medium-size\" datasets. The procedure can automatically determine the number of training records per mini-batch, or you can specify an integer greater than 1 and less than or equal to the maximum number of cases to store in memory."
   ]
  },
  {
   "cell_type": "markdown",
   "id": "eabedf80",
   "metadata": {},
   "source": [
    "---\n",
    "# My Implementation on CIFAR10 Small Images Classification Dataset\n",
    "\n",
    "I choose to implement the MLP algorithm using the CIFAR10 Small Images Classification Dataset from keras.datasets. The CIFAR10 Small Images Classification Dataset is a dataset of 50,000 32 $\\times$ 32 color training images and 10,000 test images, labeled over 10 categories. Below are the 10 categories:\n",
    "\n",
    "* Label 0: airplane\n",
    "* Label 1: automobile\n",
    "* Label 2: bird\n",
    "* Label 3: cat\n",
    "* Label 4: deer\n",
    "* Label 5: dog\n",
    "* Label 6: frog\n",
    "* Label 7: horse\n",
    "* Label 8: ship\n",
    "* Label 9: truck\n",
    "\n",
    "For this dataset, We build a multilayered perceptron with a single input layer with 3072 input nodes, 2 hidden layers of arbitrary size, and 10 output nodes. These layers will be denoted $L^0, L^1, L^2,$ and $L^{3}$, respectively. \n",
    "\n",
    "For $l = 1, 2, 3$, layer $l$ will have two phases:\n",
    "\n",
    "* The preactivation phase $z^l = W^la^{l-1} + b^l,$ \n",
    "* The postactivation phase $a^l = \\sigma(z^l).$ \n",
    "\n",
    "For notational convience, we let $a^0 = x$, where $x$ is the current input data into our network. For our activation function, we will use the sigmoid function.\n",
    "\n",
    "$$\n",
    "\\sigma(s) = \\frac{1}{1+e^{-s}}.\n",
    "$$\n",
    "\n",
    "For our cost function, we will use the Mean Sqaure Error (MSE) cost.\n",
    "$$\n",
    "C = C(W, b) = \\frac{1}{2}\\sum_{i=1}^n(a^i - y^i)^2.\n",
    "$$"
   ]
  },
  {
   "cell_type": "markdown",
   "id": "8ed058cd",
   "metadata": {},
   "source": [
    "---\n",
    "# Libraries Used\n",
    "\n",
    "The following packages are used to implement this algorithm.\n",
    "\n",
    "1. [numpy](https://numpy.org/doc/)\n",
    "2. [matplotlib](https://matplotlib.org/)\n",
    "3. [keras](https://keras.io/api/datasets/)"
   ]
  },
  {
   "cell_type": "markdown",
   "id": "ec3e0561",
   "metadata": {},
   "source": [
    "---\n",
    "# Coding Part"
   ]
  },
  {
   "cell_type": "markdown",
   "id": "e5a61695",
   "metadata": {},
   "source": [
    "Import necessary libraries."
   ]
  },
  {
   "cell_type": "code",
   "execution_count": 2,
   "id": "b213cfc3",
   "metadata": {},
   "outputs": [],
   "source": [
    "import numpy as np\n",
    "import matplotlib.pyplot as plt\n",
    "from tensorflow import keras # To load the data"
   ]
  },
  {
   "cell_type": "markdown",
   "id": "086c8cbe",
   "metadata": {},
   "source": [
    "Load the CIFAR10 small images classification dataset."
   ]
  },
  {
   "cell_type": "code",
   "execution_count": 3,
   "id": "c044cae0",
   "metadata": {},
   "outputs": [],
   "source": [
    "(train_X, train_y), (test_X, test_y) = keras.datasets.cifar10.load_data()"
   ]
  },
  {
   "cell_type": "markdown",
   "id": "c02ebc18",
   "metadata": {},
   "source": [
    "#### Check the shape of X in the training set\n",
    "\n",
    "This is a dataset of 50,000 32 $\\times$ 32 color training images."
   ]
  },
  {
   "cell_type": "code",
   "execution_count": 4,
   "id": "cf86b22a",
   "metadata": {},
   "outputs": [
    {
     "data": {
      "text/plain": [
       "(50000, 32, 32, 3)"
      ]
     },
     "execution_count": 4,
     "metadata": {},
     "output_type": "execute_result"
    }
   ],
   "source": [
    "train_X.shape"
   ]
  },
  {
   "cell_type": "code",
   "execution_count": 5,
   "id": "7a4f62e5",
   "metadata": {},
   "outputs": [
    {
     "data": {
      "text/plain": [
       "(32, 32, 3)"
      ]
     },
     "execution_count": 5,
     "metadata": {},
     "output_type": "execute_result"
    }
   ],
   "source": [
    "train_X[0].shape"
   ]
  },
  {
   "cell_type": "markdown",
   "id": "b0b8ee22",
   "metadata": {},
   "source": [
    "#### Check the shape of y in the training set\n",
    "\n",
    "It has a shape of (50,000, 1)."
   ]
  },
  {
   "cell_type": "code",
   "execution_count": 6,
   "id": "bd96cd0f",
   "metadata": {},
   "outputs": [
    {
     "data": {
      "text/plain": [
       "(50000, 1)"
      ]
     },
     "execution_count": 6,
     "metadata": {},
     "output_type": "execute_result"
    }
   ],
   "source": [
    "train_y.shape"
   ]
  },
  {
   "cell_type": "code",
   "execution_count": 7,
   "id": "ed99e0a3",
   "metadata": {},
   "outputs": [
    {
     "data": {
      "text/plain": [
       "array([6], dtype=uint8)"
      ]
     },
     "execution_count": 7,
     "metadata": {},
     "output_type": "execute_result"
    }
   ],
   "source": [
    "train_y[0]"
   ]
  },
  {
   "cell_type": "markdown",
   "id": "e9c9ad35",
   "metadata": {},
   "source": [
    "### Visualization of the training set\n",
    "\n",
    "Let's take a look at the first image in the training set."
   ]
  },
  {
   "cell_type": "code",
   "execution_count": 8,
   "id": "9f782a47",
   "metadata": {},
   "outputs": [
    {
     "data": {
      "text/plain": [
       "<matplotlib.image.AxesImage at 0x7f91c796e4f0>"
      ]
     },
     "execution_count": 8,
     "metadata": {},
     "output_type": "execute_result"
    },
    {
     "data": {
      "image/png": "[encoded data removed]",
      "text/plain": [
       "<Figure size 432x288 with 1 Axes>"
      ]
     },
     "metadata": {
      "needs_background": "light"
     },
     "output_type": "display_data"
    }
   ],
   "source": [
    "plt.imshow(train_X[0], cmap = \"gray\")"
   ]
  },
  {
   "cell_type": "markdown",
   "id": "1770f129",
   "metadata": {},
   "source": [
    "Now, check the maximum of the training set."
   ]
  },
  {
   "cell_type": "code",
   "execution_count": 9,
   "id": "e834fedb",
   "metadata": {},
   "outputs": [
    {
     "data": {
      "text/plain": [
       "255"
      ]
     },
     "execution_count": 9,
     "metadata": {},
     "output_type": "execute_result"
    }
   ],
   "source": [
    "np.max(train_X)"
   ]
  },
  {
   "cell_type": "markdown",
   "id": "8892969e",
   "metadata": {},
   "source": [
    "The maximum is 255, so we scale the training set and the test set by dividing them by 255. "
   ]
  },
  {
   "cell_type": "code",
   "execution_count": 10,
   "id": "bda3fab5",
   "metadata": {},
   "outputs": [
    {
     "data": {
      "text/plain": [
       "(32, 32, 3)"
      ]
     },
     "execution_count": 10,
     "metadata": {},
     "output_type": "execute_result"
    }
   ],
   "source": [
    "train_X = train_X/255\n",
    "test_X = test_X/255\n",
    "test_X[0].shape"
   ]
  },
  {
   "cell_type": "markdown",
   "id": "84140d43",
   "metadata": {},
   "source": [
    "Change \"test_X[0]\"  to a list by using \"flatten\", so now it has a length of 32 $\\times$ 32 $\\times$ 3 = 3072. Then reshape it to (3072, 1)."
   ]
  },
  {
   "cell_type": "code",
   "execution_count": 11,
   "id": "791b145a",
   "metadata": {},
   "outputs": [
    {
     "data": {
      "text/plain": [
       "(3072,)"
      ]
     },
     "execution_count": 11,
     "metadata": {},
     "output_type": "execute_result"
    }
   ],
   "source": [
    "train_X[0].flatten().shape"
   ]
  },
  {
   "cell_type": "code",
   "execution_count": 12,
   "id": "d1135805",
   "metadata": {},
   "outputs": [
    {
     "data": {
      "text/plain": [
       "(3072, 1)"
      ]
     },
     "execution_count": 12,
     "metadata": {},
     "output_type": "execute_result"
    }
   ],
   "source": [
    "train_X[0].flatten().reshape(3072, 1).shape"
   ]
  },
  {
   "cell_type": "markdown",
   "id": "85a31a9a",
   "metadata": {},
   "source": [
    "For the training set, we write for loops to temporarily store flattened matrices into X and temporarily store one-hot encoded label vectors into Y."
   ]
  },
  {
   "cell_type": "code",
   "execution_count": 13,
   "id": "cd788a4f",
   "metadata": {},
   "outputs": [],
   "source": [
    "# X will temp store flattened matrices\n",
    "X = []\n",
    "for x in train_X:\n",
    "  X.append(x.flatten().reshape(3072, 1))\n",
    "\n",
    "# Y will temp store one-hot encoded label vectors\n",
    "Y = []\n",
    "for y in train_y:\n",
    "  temp_vec = np.zeros((10, 1))\n",
    "  temp_vec[y][0] = 1.0\n",
    "  Y.append(temp_vec)\n",
    "\n",
    "# Our data will be stored as a list of tuples. \n",
    "train_data = [p for p in zip(X, Y)]"
   ]
  },
  {
   "cell_type": "markdown",
   "id": "e96d269a",
   "metadata": {},
   "source": [
    "Let $p$ to be the first training data combining X and y."
   ]
  },
  {
   "cell_type": "code",
   "execution_count": 14,
   "id": "c0f5d329",
   "metadata": {},
   "outputs": [
    {
     "name": "stdout",
     "output_type": "stream",
     "text": [
      "[[0.]\n",
      " [0.]\n",
      " [0.]\n",
      " [0.]\n",
      " [0.]\n",
      " [0.]\n",
      " [0.]\n",
      " [0.]\n",
      " [0.]\n",
      " [0.]]\n"
     ]
    }
   ],
   "source": [
    "p = train_data[0]\n",
    "print(p[1])"
   ]
  },
  {
   "cell_type": "markdown",
   "id": "41b086c0",
   "metadata": {},
   "source": [
    "Perform the similar for loops on the test set."
   ]
  },
  {
   "cell_type": "code",
   "execution_count": 15,
   "id": "b5ea8885",
   "metadata": {},
   "outputs": [],
   "source": [
    "X = []\n",
    "for x in test_X:\n",
    "  X.append(x.flatten().reshape(3072, 1))\n",
    "\n",
    "Y = []\n",
    "for y in test_y:\n",
    "  temp_vec = np.zeros((10, 1))\n",
    "  temp_vec[y][0] = 1.0\n",
    "  Y.append(temp_vec)\n",
    "\n",
    "test_data = [p for p in zip(X, Y)]"
   ]
  },
  {
   "cell_type": "markdown",
   "id": "9f4581aa",
   "metadata": {},
   "source": [
    "### Sigmoid\n",
    "\n",
    "Now define a sigmoid function: $\\sigma(z) = \\frac{1}{1 + e^{-z}}$.\n",
    "\n",
    "Define a function for the first derivative of the sigmoid called \"sigmoid_prime\".\n",
    "\n",
    "Also define a loss function MSE: $C = C(W, b) = \\frac{1}{2}\\sum_{i=1}^n(a^i - y^i)^2$."
   ]
  },
  {
   "cell_type": "code",
   "execution_count": 16,
   "id": "0b76b9d5",
   "metadata": {},
   "outputs": [],
   "source": [
    "def sigmoid(z):\n",
    "  return 1.0/(1.0 + np.exp(-z))\n",
    "\n",
    "def sigmoid_prime(z):\n",
    "  return sigmoid(z)*(1.0 - sigmoid(z))\n",
    "\n",
    "def mse(a, y):\n",
    "  return .5*sum((a[i]-y[i])**2 for i in range(10))[0]"
   ]
  },
  {
   "cell_type": "markdown",
   "id": "db85d68e",
   "metadata": {},
   "source": [
    "Define a function to initialze weights and bias. The parameters are the number of input data in the first layer (3072), number of nodes in the hidden layers (60), and the number of nodes for the last layer (10) respectively."
   ]
  },
  {
   "cell_type": "code",
   "execution_count": 17,
   "id": "63391bd8",
   "metadata": {},
   "outputs": [],
   "source": [
    "def initialize_weights(layers = [3072, 60, 60, 10]):\n",
    "  W = [[0.0]] # W = [[0,0],W1,W2,W3], placeholder\n",
    "  B = [[0.0]]\n",
    "  for i in range(1, len(layers)):\n",
    "    w_temp = np.random.randn(layers[i], layers[i-1])*np.sqrt(2/layers[i-1])\n",
    "    b_temp = np.random.randn(layers[i], 1)*np.sqrt(2/layers[i-1])\n",
    "\n",
    "    W.append(w_temp)\n",
    "    B.append(b_temp)\n",
    "  return W, B"
   ]
  },
  {
   "cell_type": "code",
   "execution_count": 18,
   "id": "80cdc2ee",
   "metadata": {},
   "outputs": [],
   "source": [
    "W, B = initialize_weights() #store W and B"
   ]
  },
  {
   "cell_type": "code",
   "execution_count": 19,
   "id": "bf128067",
   "metadata": {},
   "outputs": [],
   "source": [
    "x, y = train_data[0]"
   ]
  },
  {
   "cell_type": "markdown",
   "id": "03f96ae6",
   "metadata": {},
   "source": [
    "### First layer:\n",
    "\n",
    "The general steps here is:\n",
    "1. let $a^0 = x$.\n",
    "2. for $i = 1$ to $L$, $z^l = W^l a^{l-1} + b^l$.\n",
    "3. $a^l = \\sigma(z^l)$.\n",
    "4. Finish with $a^L$. We will then get the output."
   ]
  },
  {
   "cell_type": "code",
   "execution_count": 20,
   "id": "02537238",
   "metadata": {},
   "outputs": [],
   "source": [
    "a0 = x\n",
    "z1 = (W[1] @ a0) + B[1]\n",
    "a1 = sigmoid(z1)"
   ]
  },
  {
   "cell_type": "code",
   "execution_count": 21,
   "id": "a854bbfb",
   "metadata": {},
   "outputs": [
    {
     "data": {
      "text/plain": [
       "(60, 1)"
      ]
     },
     "execution_count": 21,
     "metadata": {},
     "output_type": "execute_result"
    }
   ],
   "source": [
    "a1.shape"
   ]
  },
  {
   "cell_type": "markdown",
   "id": "21ca4654",
   "metadata": {},
   "source": [
    "### Second layer:"
   ]
  },
  {
   "cell_type": "code",
   "execution_count": 22,
   "id": "872e485c",
   "metadata": {},
   "outputs": [
    {
     "name": "stdout",
     "output_type": "stream",
     "text": [
      "(60, 1)\n"
     ]
    }
   ],
   "source": [
    "z2 = (W[2] @ a1) + B[2]\n",
    "a2 = sigmoid(z2)\n",
    "print(a2.shape)"
   ]
  },
  {
   "cell_type": "markdown",
   "id": "85c69ea7",
   "metadata": {},
   "source": [
    "### Third layer:"
   ]
  },
  {
   "cell_type": "code",
   "execution_count": 23,
   "id": "9b34c1d2",
   "metadata": {},
   "outputs": [
    {
     "name": "stdout",
     "output_type": "stream",
     "text": [
      "(10, 1)\n"
     ]
    }
   ],
   "source": [
    "z3 = (W[3] @ a2) + B[3]\n",
    "a3 = sigmoid(z3)\n",
    "print(a3.shape)"
   ]
  },
  {
   "cell_type": "markdown",
   "id": "297e9175",
   "metadata": {},
   "source": [
    "Now, combine everything and feed forward."
   ]
  },
  {
   "cell_type": "code",
   "execution_count": 24,
   "id": "2d1eee97",
   "metadata": {},
   "outputs": [],
   "source": [
    "W, B = initialize_weights(layers = [3072, 60, 60, 10])\n",
    "x, y = train_data[0]\n",
    "Z = [[0.0]]\n",
    "A = [x]\n",
    "L = len(B)\n",
    "for i in range(1, L):\n",
    "  z = (W[i] @ A[i - 1]) + B[i]\n",
    "  a = sigmoid(z)\n",
    "\n",
    "  Z.append(z)\n",
    "  A.append(a)"
   ]
  },
  {
   "cell_type": "markdown",
   "id": "8926d43d",
   "metadata": {},
   "source": [
    "Here, let's check the shape of the output layer."
   ]
  },
  {
   "cell_type": "code",
   "execution_count": 25,
   "id": "9cd82776",
   "metadata": {},
   "outputs": [
    {
     "data": {
      "text/plain": [
       "(10, 1)"
      ]
     },
     "execution_count": 25,
     "metadata": {},
     "output_type": "execute_result"
    }
   ],
   "source": [
    "A[-1].shape"
   ]
  },
  {
   "cell_type": "markdown",
   "id": "b80c0d98",
   "metadata": {},
   "source": [
    "### Delta values\n",
    "\n",
    "Now, create a dictionary to store \"deltas\"."
   ]
  },
  {
   "cell_type": "code",
   "execution_count": 26,
   "id": "4cedcb9e",
   "metadata": {},
   "outputs": [],
   "source": [
    "deltas = dict()\n",
    "delta_last = (A[-1] - y)*sigmoid_prime(Z[-1])\n",
    "deltas[L - 1] = delta_last"
   ]
  },
  {
   "cell_type": "code",
   "execution_count": 27,
   "id": "5ce67d51",
   "metadata": {},
   "outputs": [
    {
     "data": {
      "text/plain": [
       "array([[0.0433551 ],\n",
       "       [0.13492601],\n",
       "       [0.12010019],\n",
       "       [0.10034714],\n",
       "       [0.11237914],\n",
       "       [0.11631658],\n",
       "       [0.04196803],\n",
       "       [0.14781981],\n",
       "       [0.1060701 ],\n",
       "       [0.02200494]])"
      ]
     },
     "execution_count": 27,
     "metadata": {},
     "output_type": "execute_result"
    }
   ],
   "source": [
    "deltas[L - 1]"
   ]
  },
  {
   "cell_type": "code",
   "execution_count": 28,
   "id": "c1be258f",
   "metadata": {},
   "outputs": [],
   "source": [
    "for l in range(L - 2, 0, -1):\n",
    "  deltas[l] = (W[l+1].T @ deltas[l+1])*sigmoid_prime(Z[l])"
   ]
  },
  {
   "cell_type": "markdown",
   "id": "b6c46bfb",
   "metadata": {},
   "source": [
    "Check the shape of the first layer."
   ]
  },
  {
   "cell_type": "code",
   "execution_count": 29,
   "id": "16ee34ce",
   "metadata": {},
   "outputs": [
    {
     "data": {
      "text/plain": [
       "(60, 1)"
      ]
     },
     "execution_count": 29,
     "metadata": {},
     "output_type": "execute_result"
    }
   ],
   "source": [
    "deltas[1].shape"
   ]
  },
  {
   "cell_type": "markdown",
   "id": "0e5b5334",
   "metadata": {},
   "source": [
    "Check the shape of the second layer."
   ]
  },
  {
   "cell_type": "code",
   "execution_count": 30,
   "id": "a1bce9ba",
   "metadata": {},
   "outputs": [
    {
     "data": {
      "text/plain": [
       "(60, 1)"
      ]
     },
     "execution_count": 30,
     "metadata": {},
     "output_type": "execute_result"
    }
   ],
   "source": [
    "deltas[2].shape"
   ]
  },
  {
   "cell_type": "markdown",
   "id": "82bc50db",
   "metadata": {},
   "source": [
    "Check the shape of the third layer."
   ]
  },
  {
   "cell_type": "code",
   "execution_count": 31,
   "id": "eb630781",
   "metadata": {},
   "outputs": [
    {
     "data": {
      "text/plain": [
       "(10, 1)"
      ]
     },
     "execution_count": 31,
     "metadata": {},
     "output_type": "execute_result"
    }
   ],
   "source": [
    "deltas[3].shape #bias"
   ]
  },
  {
   "cell_type": "markdown",
   "id": "f24f4a8d",
   "metadata": {},
   "source": [
    "Set the learning rate $\\alpha$ to 0.04 and perform gradient descent."
   ]
  },
  {
   "cell_type": "code",
   "execution_count": 32,
   "id": "7e8770f8",
   "metadata": {},
   "outputs": [],
   "source": [
    "alpha = 0.04\n",
    "for i in range(1, 4):\n",
    "  W[i] = W[i] - alpha*deltas[i]@A[i - 1].T\n",
    "  B[i] = B[i] - alpha*deltas[i]"
   ]
  },
  {
   "cell_type": "markdown",
   "id": "e563f731",
   "metadata": {},
   "source": [
    "Now combine everthing and feed forward. Do the predictions."
   ]
  },
  {
   "cell_type": "code",
   "execution_count": 33,
   "id": "dfafca8b",
   "metadata": {},
   "outputs": [],
   "source": [
    "def forward_pass(W, B, p, predict_vector = False):\n",
    "  Z =[[0.0]]\n",
    "  A = [p[0]]\n",
    "  L = len(W)\n",
    "  for i in range(1, L):\n",
    "    z = (W[i] @ A[i - 1]) + B[i]\n",
    "    a = sigmoid(z)\n",
    "\n",
    "    Z.append(z)\n",
    "    A.append(a)\n",
    "\n",
    "  if predict_vector == True:\n",
    "    return A[-1]\n",
    "  else:\n",
    "    return Z, A\n",
    "\n",
    "def deltas_dict(W, B, p):\n",
    "  Z, A = forward_pass(W, B, p)\n",
    "  L = len(W)\n",
    "  deltas = dict()\n",
    "  deltas[L-1] = (A[-1] - p[1])*sigmoid_prime(Z[-1])\n",
    "  for l in range(L - 2, 0, -1):\n",
    "    deltas[l] = (W[l+1].T @ deltas[l + 1]) * sigmoid_prime(Z[l])\n",
    "\n",
    "  return A, deltas"
   ]
  },
  {
   "cell_type": "markdown",
   "id": "e2c0db95",
   "metadata": {},
   "source": [
    "Define a function for MSE with feed forward prediction."
   ]
  },
  {
   "cell_type": "code",
   "execution_count": 34,
   "id": "0e1cf3c0",
   "metadata": {},
   "outputs": [],
   "source": [
    "def MSE(W, B, data):\n",
    "  c = 0.0\n",
    "  for p in data:\n",
    "    a = forward_pass(W, B, p, predict_vector = True)\n",
    "    c += mse(a, p[1])\n",
    "  return c/len(data)"
   ]
  },
  {
   "cell_type": "markdown",
   "id": "5946ab93",
   "metadata": {},
   "source": [
    "Print the initial cost."
   ]
  },
  {
   "cell_type": "code",
   "execution_count": 35,
   "id": "91fc1725",
   "metadata": {},
   "outputs": [
    {
     "name": "stdout",
     "output_type": "stream",
     "text": [
      "Initial Cost = 1.491863618835627\n"
     ]
    }
   ],
   "source": [
    "W, B = initialize_weights()\n",
    "print(f\"Initial Cost = {MSE(W, B, train_data)}\")"
   ]
  },
  {
   "cell_type": "markdown",
   "id": "caae1be4",
   "metadata": {},
   "source": [
    "The initial cost is 1.5940682147095273."
   ]
  },
  {
   "cell_type": "markdown",
   "id": "1eeb89fc",
   "metadata": {},
   "source": [
    "See how the predicted value compared with the actual value."
   ]
  },
  {
   "cell_type": "code",
   "execution_count": 39,
   "id": "130b55d0",
   "metadata": {
    "scrolled": true
   },
   "outputs": [
    {
     "name": "stdout",
     "output_type": "stream",
     "text": [
      "Predicted Value = 3\n",
      "Actual Value = [7]\n"
     ]
    },
    {
     "data": {
      "image/png": "[encoded data removed]",
      "text/plain": [
       "<Figure size 432x288 with 1 Axes>"
      ]
     },
     "metadata": {
      "needs_background": "light"
     },
     "output_type": "display_data"
    }
   ],
   "source": [
    "i = np.random.randint(0, len(test_X))\n",
    "prediction = np.argmax(forward_pass(W, B, test_data[i], predict_vector = True))\n",
    "print(f\"Predicted Value = {prediction}\")\n",
    "print(f\"Actual Value = {test_y[i]}\")\n",
    "plt.imshow(test_X[i], cmap = \"gray\")\n",
    "plt.show()"
   ]
  },
  {
   "cell_type": "markdown",
   "id": "1276dd78",
   "metadata": {},
   "source": [
    "The prediction is wrong."
   ]
  },
  {
   "cell_type": "markdown",
   "id": "670ae7e5",
   "metadata": {},
   "source": [
    "### Stochastic gradient descent\n",
    "\n",
    "Now let's formally define a function for gradient descent with a learning rate $\\alpha = 0.04$ and set $epochs = 3$. Recall that epochs is the number of iterations."
   ]
  },
  {
   "cell_type": "code",
   "execution_count": 40,
   "id": "f1d89c84",
   "metadata": {},
   "outputs": [],
   "source": [
    "def stochastic_gradient_descent(W, B, data, alpha = 0.04, epochs = 3):\n",
    "  L = len(W)\n",
    "  print(f\"Initial Cost = {MSE(W, B, data)}\")\n",
    "  for k in range(epochs):\n",
    "    for p in data:\n",
    "      A, deltas = deltas_dict(W, B, p)\n",
    "      for i in range(1, L):\n",
    "        W[i] = W[i] - alpha*deltas[i]@A[i - 1].T\n",
    "        B[i] = B[i] - alpha*deltas[i]\n",
    "    print(f\"{k} Cost = {MSE(W, B, data)}\")"
   ]
  },
  {
   "cell_type": "code",
   "execution_count": 41,
   "id": "6fc6931d",
   "metadata": {},
   "outputs": [
    {
     "name": "stdout",
     "output_type": "stream",
     "text": [
      "Initial Cost = 1.491863618835627\n",
      "0 Cost = 3.467311787278772e-05\n",
      "1 Cost = 1.6848888294709726e-05\n",
      "2 Cost = 1.106527450991232e-05\n"
     ]
    }
   ],
   "source": [
    "stochastic_gradient_descent(W, B, train_data)"
   ]
  },
  {
   "cell_type": "markdown",
   "id": "e9310384",
   "metadata": {},
   "source": [
    "We now get three costs. The cost decreases a lot after each training."
   ]
  },
  {
   "cell_type": "markdown",
   "id": "14035b50",
   "metadata": {},
   "source": [
    "Finally, combine everything."
   ]
  },
  {
   "cell_type": "code",
   "execution_count": 42,
   "id": "3c7a6692",
   "metadata": {},
   "outputs": [],
   "source": [
    "class MultilayerPerceptron():\n",
    "  \n",
    "  def __init__(self, layers = [3072, 60, 60, 10]):\n",
    "    self.layers = layers\n",
    "    self.L = len(self.layers)\n",
    "    self.W =[[0.0]]\n",
    "    self.B = [[0.0]]\n",
    "    for i in range(1, self.L):\n",
    "      w_temp = np.random.randn(self.layers[i], self.layers[i - 1])*np.sqrt(2/self.layers[i - 1])\n",
    "      b_temp = np.random.randn(self.layers[i], 1)*np.sqrt(2/self.layers[i-1])\n",
    "\n",
    "      self.W.append(w_temp)\n",
    "      self.B.append(b_temp)\n",
    "\n",
    "  def reset_weights(self, layers = [3072, 60, 60, 10]):\n",
    "    self.layers = layers\n",
    "    self.L = len(self.layers)\n",
    "    self.W = [[0.0]]\n",
    "    self.B = [[0.0]]\n",
    "    for i in range(1, self.L):\n",
    "      w_temp = np.random.randn(self.layers[i], self.layers[i - 1])*np.sqrt(2/self.layers[i - 1])\n",
    "      b_temp = np.random.randn(self.layers[i], 1)*np.sqrt(2/self.layers[i-1])\n",
    "\n",
    "      self.W.append(w_temp)\n",
    "      self.B.append(b_temp)\n",
    "\n",
    "\n",
    "  def forward_pass(self, p, predict_vector = False):\n",
    "    Z =[[0.0]]\n",
    "    A = [p[0]]\n",
    "    for i in range(1, self.L):\n",
    "      z = (self.W[i] @ A[i - 1]) + self.B[i]\n",
    "      a = sigmoid(z)\n",
    "      Z.append(z)\n",
    "      A.append(a)\n",
    "\n",
    "    if predict_vector == True:\n",
    "      return A[-1]\n",
    "    else:\n",
    "      return Z, A\n",
    "\n",
    "  def MSE(self, data):\n",
    "    c = 0.0\n",
    "    for p in data:\n",
    "      a = self.forward_pass(p, predict_vector=True)\n",
    "      c += mse(a, p[1])\n",
    "    return c/len(data)\n",
    "\n",
    "  def deltas_dict(self, p):\n",
    "    Z, A = self.forward_pass(p)\n",
    "    deltas = dict()\n",
    "    deltas[self.L - 1] = (A[-1] - p[1])*sigmoid_prime(Z[-1])\n",
    "    for l in range(self.L - 2, 0, -1):\n",
    "      deltas[l] = (self.W[l+1].T @ deltas[l+1]) * sigmoid_prime(Z[l])\n",
    "\n",
    "    return A, deltas\n",
    "\n",
    "  def stochastic_gradient_descent(self, data, alpha = 0.04, epochs = 3):\n",
    "    print(f\"Initial Cost = {self.MSE(data)}\")\n",
    "    for k in range(epochs):\n",
    "      for p in data:\n",
    "        A, deltas = self.deltas_dict(p)\n",
    "        for i in range(1, self.L):\n",
    "          self.W[i] = self.W[i] - alpha*deltas[i]@A[i - 1].T\n",
    "          self.B[i] = self.B[i] - alpha*deltas[i]\n",
    "    print(f\"{k} Cost = {self.MSE(data)}\")\n",
    "\n",
    "  def mini_batch_gradient_descent(self, data, batch_size = 15, alpha = 0.04, epochs = 3):\n",
    "    print(f\"Initial Cost = {self.MSE(data)}\")\n",
    "    data_length = len(data)\n",
    "    for k in range(epochs):\n",
    "      for j in range(0,data_length-batch_size,batch_size):\n",
    "        delta_list = []\n",
    "        A_list = []\n",
    "        for p in data[j:j + batch_size]:\n",
    "          A, deltas = self.deltas_dict(p)\n",
    "          A_list.append(A)\n",
    "\n",
    "          for i in range(1, self.L):\n",
    "            self.W[i] = self.W[i] - (alpha/batch_size)*sum(da[0][i]@da[1][i - 1].T for da in zip(delta_list, A_list))\n",
    "            self.B[i] = self.B[i] - (alpha/batch_size)*sum(deltas[i] for deltas in delta_list)\n",
    "    print(f\"{k} Cost = {self.MSE(data)}\")"
   ]
  },
  {
   "cell_type": "code",
   "execution_count": 43,
   "id": "43e9c0dd",
   "metadata": {},
   "outputs": [],
   "source": [
    "net = MultilayerPerceptron(layers = [3072, 60, 60, 10])"
   ]
  },
  {
   "cell_type": "markdown",
   "id": "ece13e7c",
   "metadata": {},
   "source": [
    "### Costs when using stochastic gradient descent"
   ]
  },
  {
   "cell_type": "code",
   "execution_count": 44,
   "id": "c4f16753",
   "metadata": {},
   "outputs": [
    {
     "name": "stdout",
     "output_type": "stream",
     "text": [
      "Initial Cost = 1.3102156975400356\n",
      "2 Cost = 1.0523360691995571e-05\n"
     ]
    }
   ],
   "source": [
    "net.stochastic_gradient_descent(train_data)"
   ]
  },
  {
   "cell_type": "markdown",
   "id": "b746a596",
   "metadata": {},
   "source": [
    "### Cost when using mini batch"
   ]
  },
  {
   "cell_type": "code",
   "execution_count": 45,
   "id": "e5551a9d",
   "metadata": {},
   "outputs": [
    {
     "name": "stdout",
     "output_type": "stream",
     "text": [
      "Initial Cost = 1.0523360691995571e-05\n",
      "2 Cost = 1.0523360691995571e-05\n"
     ]
    }
   ],
   "source": [
    "net.mini_batch_gradient_descent(train_data)"
   ]
  },
  {
   "cell_type": "code",
   "execution_count": 46,
   "id": "2e389890",
   "metadata": {},
   "outputs": [
    {
     "data": {
      "text/plain": [
       "1.0474173866376239e-05"
      ]
     },
     "execution_count": 46,
     "metadata": {},
     "output_type": "execute_result"
    }
   ],
   "source": [
    "net.MSE(test_data)"
   ]
  },
  {
   "cell_type": "markdown",
   "id": "f47a5ff1",
   "metadata": {},
   "source": [
    "---\n",
    "# Reference\n",
    "\n",
    "S. Abirami, P. Chitra (2020). Multilayer Perceptron. Advances in Computers. https://www.sciencedirect.com/topics/computer-science/multilayer-perceptron\n",
    "\n",
    "Training (Multilayer Perceptron). https://www.ibm.com/docs/en/spss-statistics/24.0.0?topic=perceptron-training-multilayer\n",
    "\n",
    "Multilayer perceptron. Wikipedia. https://en.wikipedia.org/wiki/Multilayer_perceptron"
   ]
  }
 ],
 "metadata": {
  "kernelspec": {
   "display_name": "Python 3",
   "language": "python",
   "name": "python3"
  },
  "language_info": {
   "codemirror_mode": {
    "name": "ipython",
    "version": 3
   },
   "file_extension": ".py",
   "mimetype": "text/x-python",
   "name": "python",
   "nbconvert_exporter": "python",
   "pygments_lexer": "ipython3",
   "version": "3.8.8"
  }
 },
 "nbformat": 4,
 "nbformat_minor": 5
}
